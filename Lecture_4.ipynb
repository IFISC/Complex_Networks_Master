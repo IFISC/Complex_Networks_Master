{
 "cells": [
  {
   "cell_type": "markdown",
   "id": "4b616437-069a-4ed7-843c-303fd8d4fae2",
   "metadata": {},
   "source": [
    "# Lecture 4: Network visualization\n",
    "\n",
    "In this lecture we will learn how to visualize a network, emphasizing different aspects of it.\n",
    "\n",
    "NetworkX does not have strong visualization capabilities. It primarily relies upon an old, and hacked together drawing function written to utilize matplotlib. This means that matplotlib drawing is slow, non-interactive, and has many visual bugs. For example, arrows for directed graphs are particularly unpleasant.\n",
    "\n",
    "Now there are several options to visualize a network, also utilizing wrappers for python.\n",
    "\n",
    "For these reasons, I do not recommended that NetworkX be used as a primary tool for visualization of graphs. \n",
    "\n",
    "In general, I think it is a rare instance when visualizing a graph can provide meaningful information. While many graph visualizations are aesthetically pleasing, they do not convey information about the graph that could be more easily discovered by analyzing the graph using different metrics. Moreover, because positional layouts can be arbitrary, they may cause people to view structure when there is none. This is is epeciall true as graphs become larger than 100 nodes.\n",
    "\n",
    "Regardless here are some things that illustrate the basics of graph drawing in NetworkX. We will also learn the basics of network visualization with [Cytoscape](https://cytoscape.org/), a much more pleasant tool for this.\n",
    "\n",
    "There are many other options, like [GraphViz](https://graphviz.org/), [Gephi](https://gephi.org/)... that you can explore!\n",
    "\n",
    "## Visualization with NetworkX\n",
    "\n",
    "The basic function for visualizing a network is `nx.draw()`"
   ]
  },
  {
   "cell_type": "code",
   "execution_count": null,
   "id": "034f1191-532a-4884-9601-2b48dd096fbc",
   "metadata": {},
   "outputs": [],
   "source": [
    "import networkx as nx\n",
    "import numpy as np\n",
    "import matplotlib.pyplot as plt\n",
    "%matplotlib inline\n",
    "G = nx.karate_club_graph()\n",
    "nx.draw(G)"
   ]
  },
  {
   "cell_type": "markdown",
   "id": "e1609efe-71ad-461b-81d2-1f0f46ffb909",
   "metadata": {},
   "source": [
    "The `nx.draw` has quite a lot of functionality. Let's take some time looking at its documentation"
   ]
  },
  {
   "cell_type": "code",
   "execution_count": null,
   "id": "2e6fcd8b-cba8-422b-891e-ba79ed4595d0",
   "metadata": {},
   "outputs": [],
   "source": [
    "nx.draw?"
   ]
  },
  {
   "cell_type": "code",
   "execution_count": null,
   "id": "554b9e98-2c5a-4cd3-ba2b-c1aa0060933c",
   "metadata": {},
   "outputs": [],
   "source": [
    "nx.draw_networkx?"
   ]
  },
  {
   "cell_type": "markdown",
   "id": "a1a66f42-7204-47ea-8583-b8d30a03cf25",
   "metadata": {},
   "source": [
    "### Layouts\n",
    "\n",
    "Graph Layouts are algorithms dedicated to node positioning for graph drawing. Usually we will plot networks in 2 dimensions, although many real networks have a high effective dimensionality. Therefore many times it is very difficult to arrange the nodes in 2D space in a way that we can observe specific characteristics of the network. In order to arrange the nodes automatically we have graph layout algorithms. \n",
    "\n",
    "The layouts can be stored into a variable that will contain the positions of all the nodes. You can see the different options for layouts [here](https://networkx.org/documentation/stable/reference/drawing.html#module-networkx.drawing.layout) or by typing `nx.layout.[TAB]`. Let's check several layouts in with the network we just created."
   ]
  },
  {
   "cell_type": "code",
   "execution_count": null,
   "id": "e95cc16b-bd89-4f1e-93dc-71bc893c70c9",
   "metadata": {},
   "outputs": [],
   "source": [
    "plt.subplot(221)\n",
    "circ_layout = nx.circular_layout(G)\n",
    "nx.draw(G,pos=circ_layout)\n",
    "plt.subplot(222)\n",
    "fr_layout = nx.fruchterman_reingold_layout(G)\n",
    "nx.draw(G,pos=fr_layout)\n",
    "plt.subplot(223)\n",
    "spr_layout = nx.spring_layout(G)\n",
    "nx.draw(G,pos=spr_layout)\n",
    "plt.subplot(224)\n",
    "spec_layout = nx.spectral_layout(G)\n",
    "nx.draw(G,pos=spec_layout)"
   ]
  },
  {
   "cell_type": "markdown",
   "id": "ae7bce3a-d4df-4a60-8054-4425cabf537f",
   "metadata": {},
   "source": [
    "As you can see, the layout can make a big difference in identifying vissually certain characteristics of the network.\n",
    "\n",
    "### Visualizing node properties\n",
    "\n",
    "The basic plotting options that we can control in order to visualize node properties are\n",
    "\n",
    "- Label.\n",
    "- Color.\n",
    "- Size.\n",
    "- Shape.\n",
    "\n",
    "#### Showing node labels\n",
    "\n",
    "We can use the option `with_labels=True`, and the *name* of the nodes will be displayed inside the nodes. We can also give a list of labels to be displayed with the option `labels=label_dict`, where `label_dict` is a dictionary where the keys are the node names and the value is the label we want to use for each node. Also the font size and other properties can be changed."
   ]
  },
  {
   "cell_type": "code",
   "execution_count": null,
   "id": "399db870-115d-409b-85c4-6bb604275125",
   "metadata": {},
   "outputs": [],
   "source": [
    "nx.draw(G,\n",
    "        pos=fr_layout,\n",
    "        with_labels=True,\n",
    "        font_size=15) "
   ]
  },
  {
   "cell_type": "code",
   "execution_count": null,
   "id": "bfa336a9-e948-4977-a174-6c69ec83770a",
   "metadata": {},
   "outputs": [],
   "source": [
    "N = G.number_of_nodes()\n",
    "label_dict = dict(zip(list(G.nodes()),np.round(np.linspace(0,1,N),2)))\n",
    "\n",
    "nx.draw(G,\n",
    "        pos=fr_layout,\n",
    "        with_labels=True,\n",
    "        font_size=15,\n",
    "        labels=label_dict) "
   ]
  },
  {
   "cell_type": "markdown",
   "id": "55353e5f-b707-4bc5-b3a3-10d7d845942f",
   "metadata": {},
   "source": [
    "#### Node color\n",
    "\n",
    "To change node colors we can use the option `node_color`. You can give a color, an array of colors (of length equal to the number of nodes and in the order in which they appear when you call the iterator `G.nodes()`) or an array of numbers. The array of numbers willbe converted to a color using the `cmap` that is specified (`viridis` is the default) and the options `vmin` and `vmax` that will set the boundaries for the colormap (maximum and minimum in the data is the default). You can find more colormaps and their names[here](https://matplotlib.org/stable/tutorials/colors/colormaps.html)."
   ]
  },
  {
   "cell_type": "code",
   "execution_count": null,
   "id": "ee64a9ed-3a75-4b70-9d89-9c0f13cb42bb",
   "metadata": {},
   "outputs": [],
   "source": [
    "nx.draw(G,\n",
    "        pos=fr_layout,\n",
    "        node_color='r') "
   ]
  },
  {
   "cell_type": "code",
   "execution_count": null,
   "id": "0acff7a1-0c26-4cb0-91de-3f12c81273c6",
   "metadata": {},
   "outputs": [],
   "source": [
    "node_betweenness = [x for k,x in nx.betweenness_centrality(G).items()]\n",
    "    \n",
    "nx.draw(G,\n",
    "        pos=fr_layout,\n",
    "        node_color=node_betweenness) "
   ]
  },
  {
   "cell_type": "code",
   "execution_count": null,
   "id": "19612de2-40c3-4e26-915f-11d2692881e2",
   "metadata": {},
   "outputs": [],
   "source": [
    "nx.draw(G,\n",
    "        pos=fr_layout,\n",
    "        node_color=node_betweenness,\n",
    "        cmap='jet') "
   ]
  },
  {
   "cell_type": "markdown",
   "id": "55b52032-94dc-4fe7-8154-ccadc090262b",
   "metadata": {},
   "source": [
    "#### Node size\n",
    "\n",
    "Node size is controlled thruogh the parameter `node_size` works similarly to `node_color` in the sense that you can give a single number or a number for each of the nodes. Let's encode the degree of the node in its size."
   ]
  },
  {
   "cell_type": "code",
   "execution_count": null,
   "id": "cd615e09-ed80-48f4-88e6-f228c8782b33",
   "metadata": {},
   "outputs": [],
   "source": [
    "node_deg = np.array([k for x,k in dict(nx.degree(G)).items()])\n",
    "\n",
    "nx.draw(G,\n",
    "        pos=fr_layout,\n",
    "        node_color=node_betweenness,\n",
    "        node_size=50*node_deg) "
   ]
  },
  {
   "cell_type": "markdown",
   "id": "44aac192-54a0-45a0-b06f-532c6c23638c",
   "metadata": {},
   "source": [
    "#### Node shape\n",
    "\n",
    "To change node shape you can use the parameter `node_shape`, which can take the values `so^>v<dph8*` Try them!"
   ]
  },
  {
   "cell_type": "code",
   "execution_count": null,
   "id": "b6db969b-641e-4613-830a-6b7ff151248f",
   "metadata": {},
   "outputs": [],
   "source": [
    "nx.draw(G,\n",
    "        pos=fr_layout,\n",
    "        node_color=node_betweenness,\n",
    "        node_size=50*node_deg,\n",
    "        node_shape='p') "
   ]
  },
  {
   "cell_type": "markdown",
   "id": "368622e2-a4b4-4041-9cdb-a8940fde9bab",
   "metadata": {},
   "source": [
    "The problem with this is that you cannot decide a different shape for different nodes. To do this we will plot the nodes and the edges with different functions, `nx.draw_networkx_nodes()` and `nx.draw_networkx_edges()` respectively. \n",
    "\n",
    "In the function `nx.draw_networkx_nodes()` you can specify, through `nodelist`, the list of nodes that are going to be plotted.\n",
    "\n",
    "##### Exercise\n",
    "\n",
    "Plot the karate club network using different shapes for the nodes that belong to the club of `'Mr. Hi'` and to the club of `'Officer'`. You have to keep the node size proportional to the degree and the node color reflecting the betweenness centrality of the node."
   ]
  },
  {
   "cell_type": "code",
   "execution_count": null,
   "id": "bd5c3ea8-5bec-4b14-8457-c91a25f28a09",
   "metadata": {},
   "outputs": [],
   "source": []
  },
  {
   "cell_type": "markdown",
   "id": "9c473c4b-b1da-479d-9392-f1ef34c7ffdf",
   "metadata": {},
   "source": [
    "### Visualizing edge properties\n",
    "\n",
    "Very similarly to the properties of nodes that we can change in their visual aspect, there are characteristics of the edges. The basic ones are\n",
    "\n",
    "- Label.\n",
    "- Color.\n",
    "- Width.\n",
    "- Style.\n",
    "\n",
    "#### Edge labels\n",
    "\n",
    "You can print labels in the edges by using the function `nx.draw_networkx_edge_labels()` after you have plotted the network."
   ]
  },
  {
   "cell_type": "code",
   "execution_count": null,
   "id": "32014913-4adc-4611-b5bd-ff13fcef4de0",
   "metadata": {},
   "outputs": [],
   "source": [
    "nx.draw(G,\n",
    "        pos=fr_layout,\n",
    "        node_color=node_betweenness,\n",
    "        node_size=50*node_deg,\n",
    "        node_shape='p') \n",
    "labels = {}\n",
    "for edge in G.edges():\n",
    "    labels[edge] = G.edges[edge]['weight']\n",
    "\n",
    "nx.draw_networkx_edge_labels(G,\n",
    "                             pos=fr_layout,\n",
    "                             edge_labels=labels)\n",
    "print('hi')"
   ]
  },
  {
   "cell_type": "markdown",
   "id": "784e34d2-f804-44e9-8689-b552919a3f0e",
   "metadata": {},
   "source": [
    "As you can see, displaying labels might not be the best option usually.\n",
    "\n",
    "#### Edge color\n",
    "\n",
    "You can specify edge color in a very similar way that was specified for node color. We have to specify `edge_color` in the `nx.draw()` function. We can specify one color, a list of colors, or an array of colors or values (the array has to be in the same order as the iterator `G.edges()`). When values are passed to the `edge_color` parameter, it uses `edge_cmap`, `edge_vmin` and `edge_vmax`. \n",
    "\n",
    "Let's try first just by giving a single color."
   ]
  },
  {
   "cell_type": "code",
   "execution_count": null,
   "id": "aded0e55-f01e-4ff6-b242-11d75eb302db",
   "metadata": {},
   "outputs": [],
   "source": [
    "nx.draw(G,\n",
    "        pos=fr_layout,\n",
    "        node_color=node_betweenness,\n",
    "        node_size=50*node_deg,\n",
    "        node_shape='p',\n",
    "        edge_color='r') "
   ]
  },
  {
   "cell_type": "markdown",
   "id": "43a20995-a829-4cb3-9c66-16b39d2712d1",
   "metadata": {},
   "source": [
    "Let's use now the color to display the betwenness of every edge. For a reason I don't fully understand, in order to choose a colormap for the edges you cannot directly tell the name of the colormap to the parameter `edge_cmap`, but you have to specify it as `mpl.colormaps[CMAP_NAME]`, having imported the module `matplotlib` as `mpl`."
   ]
  },
  {
   "cell_type": "code",
   "execution_count": null,
   "id": "be4fca83-79e7-4be6-abf2-7e8233c52c6a",
   "metadata": {},
   "outputs": [],
   "source": [
    "import matplotlib as mpl\n",
    "edge_betweenness = [x for k,x in nx.edge_betweenness_centrality(G).items()]\n",
    "\n",
    "nx.draw(G,\n",
    "        pos=fr_layout,\n",
    "        node_color=node_betweenness,\n",
    "        node_size=50*node_deg,\n",
    "        node_shape='p',\n",
    "        edge_color=edge_betweenness,\n",
    "        edge_cmap=mpl.colormaps['jet']) "
   ]
  },
  {
   "cell_type": "markdown",
   "id": "c4216a2d-7037-4b6c-979c-47206e41dca1",
   "metadata": {},
   "source": [
    "#### Edge width\n",
    "\n",
    "Now let's use the property of the edges `weight`, which tells the number of times two athletes trained together, to give the width of the edges. We will do so with the parameter `width`, which works similarly to `edge_color`."
   ]
  },
  {
   "cell_type": "code",
   "execution_count": null,
   "id": "c99896d1-bd74-4983-bd1d-c238c33d4624",
   "metadata": {},
   "outputs": [],
   "source": [
    "G.edges(data=True)"
   ]
  },
  {
   "cell_type": "code",
   "execution_count": null,
   "id": "2ef6731a-bbf1-416f-8518-452e82c4c9ee",
   "metadata": {},
   "outputs": [],
   "source": [
    "weights=np.array([G.edges[edge]['weight'] for edge in G.edges()])\n",
    "nx.draw(G,\n",
    "        pos=fr_layout,\n",
    "        node_color=node_betweenness,\n",
    "        node_size=50*node_deg,\n",
    "        node_shape='p',\n",
    "        edge_color=edge_betweenness,\n",
    "        edge_cmap=mpl.colormaps['jet'],\n",
    "        width=weights) "
   ]
  },
  {
   "cell_type": "markdown",
   "id": "90c43f7c-5ac7-4829-bfb2-fc034f51a644",
   "metadata": {},
   "source": [
    "#### Edge line style\n",
    "\n",
    "We can change the line style of the edges using the parameter `style`, which can take the values `'-'`, `'--'`, `'-.'`, `':'`. "
   ]
  },
  {
   "cell_type": "code",
   "execution_count": null,
   "id": "d694e0b9-2f7f-4f76-ad3a-8b1358338d89",
   "metadata": {},
   "outputs": [],
   "source": [
    "nx.draw(G,\n",
    "        pos=fr_layout,\n",
    "        node_color=node_betweenness,\n",
    "        node_size=50*node_deg,\n",
    "        node_shape='p',\n",
    "        edge_color=edge_betweenness,\n",
    "        edge_cmap=mpl.colormaps['jet'],\n",
    "        width=weights,\n",
    "        style='-.') "
   ]
  },
  {
   "cell_type": "markdown",
   "id": "b5d87e83-6fe7-41c2-85b5-af730c7082ba",
   "metadata": {},
   "source": [
    "This parameter has the same problem that had the parameter `node_shape`. There is no way of specifying different styles for different edges with just one call to the `nx.draw()` function. To this end we will use the function `nx.draw_networkx_edges()`, where you can specify the edges that you want to plot through the parameter `edgelist`.\n",
    "\n",
    "##### Exercise\n",
    "\n",
    "Plot the Karate club network so that you show the node betweenness as the color of the nodes, the degree as their size and belonging to one of the two clubs in the shape of the nodes. Regarding the edges, use the color to show the edge betweenness centrality, the width to show the weight and plot with different styles edges between members of Mr. Hi's club, edges between members od Officer's club and edges between members of different clubs."
   ]
  },
  {
   "cell_type": "code",
   "execution_count": null,
   "id": "811224bf-4dc6-44f2-a72a-25ba0e9fb572",
   "metadata": {},
   "outputs": [],
   "source": []
  },
  {
   "cell_type": "markdown",
   "id": "416b196d-825e-4295-9657-f7aabd7149db",
   "metadata": {},
   "source": [
    "## Visualizing networks with Cytoscape\n",
    "\n",
    "We are now going to use a different software for visualizing networks, namely [Cytoscape](https://cytoscape.org/). This software provides a interactive GUI that lets you analyze and visualize networks in a more flexible way. Download the program from its main page and open it.\n",
    "\n",
    "My advice is to create all the properties of nodes and edges that we want in NetworkX and the save it in a format that Cytoscape can read, like `GML`. In that way you will have access in Cytoscape to all the properties that you added to the graph with NetworkX."
   ]
  },
  {
   "cell_type": "code",
   "execution_count": null,
   "id": "f1405a14-5e0b-49c8-b3fb-7b53cd104c80",
   "metadata": {},
   "outputs": [],
   "source": []
  }
 ],
 "metadata": {
  "kernelspec": {
   "display_name": "complex_networks",
   "language": "python",
   "name": "complex_networks"
  },
  "language_info": {
   "codemirror_mode": {
    "name": "ipython",
    "version": 3
   },
   "file_extension": ".py",
   "mimetype": "text/x-python",
   "name": "python",
   "nbconvert_exporter": "python",
   "pygments_lexer": "ipython3",
   "version": "3.8.12"
  }
 },
 "nbformat": 4,
 "nbformat_minor": 5
}
