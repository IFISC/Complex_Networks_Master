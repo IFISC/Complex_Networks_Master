{
 "cells": [
  {
   "cell_type": "markdown",
   "id": "2ef11f86-7f07-4ea1-9340-db1d83d47075",
   "metadata": {},
   "source": [
    "# Lecture 6: Networks that are not networks\n",
    "\n",
    "In this lecture we will learn about network representations of data that are not directly in a network format. The use of these methods will allow us to apply the tools of network theory to other areas, thus expanding the reach of complex network's concepts. One has to be aware that maybe taking this path is not the best for a given problem, as other tools might already exist that tackle our question. For other cases, the network perspective might yield additional insights into the system under study.\n",
    "\n",
    "We will cover three different cases:\n",
    "\n",
    "- Correlation networks.\n",
    "- Visibility graphs.\n",
    "- Lagrangian flow networks.\n",
    "\n",
    "## Correlation networks\n",
    "\n",
    "### Network construction\n",
    "\n"
   ]
  },
  {
   "cell_type": "code",
   "execution_count": null,
   "id": "bf171cb8-03c6-4a95-a816-9e3c1918f439",
   "metadata": {},
   "outputs": [],
   "source": []
  },
  {
   "cell_type": "markdown",
   "id": "1f116255-0047-4ac5-bebe-9bf56c3277b3",
   "metadata": {},
   "source": [
    "### Thresholding\n",
    "\n"
   ]
  },
  {
   "cell_type": "code",
   "execution_count": null,
   "id": "221e3529-39a9-4568-b8b1-5313cad382ed",
   "metadata": {},
   "outputs": [],
   "source": []
  },
  {
   "cell_type": "markdown",
   "id": "b19a6e06-bca6-494b-920b-5ca8d6c9ccd8",
   "metadata": {},
   "source": [
    "## Visibility graphs\n",
    "\n",
    "### Network construction\n",
    "\n"
   ]
  },
  {
   "cell_type": "code",
   "execution_count": null,
   "id": "6903fafd-00dd-4754-8614-766207da5950",
   "metadata": {},
   "outputs": [],
   "source": []
  },
  {
   "cell_type": "markdown",
   "id": "cb810221-6daa-4220-ad77-7bb79edc0acb",
   "metadata": {},
   "source": [
    "### Recovering time-series properties from the visibility graph\n",
    "\n"
   ]
  },
  {
   "cell_type": "code",
   "execution_count": null,
   "id": "6c8b4c06-7af2-40f7-b105-c40edae96a5e",
   "metadata": {},
   "outputs": [],
   "source": []
  },
  {
   "cell_type": "markdown",
   "id": "b6a23170-cc7b-4d5b-b8c9-aa7b2558e9fd",
   "metadata": {},
   "source": [
    "## Lagrangian flow networks\n",
    "\n",
    "..."
   ]
  },
  {
   "cell_type": "code",
   "execution_count": null,
   "id": "38527bad-d7c2-4fdf-b441-825942e90b5b",
   "metadata": {},
   "outputs": [],
   "source": []
  }
 ],
 "metadata": {
  "kernelspec": {
   "display_name": "complex_networks",
   "language": "python",
   "name": "complex_networks"
  },
  "language_info": {
   "codemirror_mode": {
    "name": "ipython",
    "version": 3
   },
   "file_extension": ".py",
   "mimetype": "text/x-python",
   "name": "python",
   "nbconvert_exporter": "python",
   "pygments_lexer": "ipython3",
   "version": "3.8.12"
  }
 },
 "nbformat": 4,
 "nbformat_minor": 5
}
