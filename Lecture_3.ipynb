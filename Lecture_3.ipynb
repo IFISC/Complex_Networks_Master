{
 "cells": [
  {
   "cell_type": "markdown",
   "id": "45461a1d-e58a-4676-ae40-6fb7d951d9ca",
   "metadata": {},
   "source": [
    "# Lecture 3: Graph generators and analysis tools in NetworkX\n",
    "\n",
    "In this lecture we will learn about graph generators and different analysis tools that are already available in NetworkX. So let's load first the NetworkX module."
   ]
  },
  {
   "cell_type": "code",
   "execution_count": null,
   "id": "4df545c7-fd4b-4105-bc63-27b961b088ae",
   "metadata": {},
   "outputs": [],
   "source": [
    "import networkx as nx"
   ]
  },
  {
   "cell_type": "markdown",
   "id": "12e39f05-238a-4aa9-bedc-e31e073ac634",
   "metadata": {},
   "source": [
    "## Graph generators\n",
    "\n",
    "NetworkX comes with a large number of builtin graph generators, which are functions that create graph objects according to different models or from different data sources (like the classical karate club graph). These can be especially useful for testing out new measures, metrics, and dynamics, on already well tested algorithms. In this notebook, we'll go through some of the different classes of graph generators included in NetworkX and write a few of our own. There are a lot of generators in NetworkX so before you implement your own check to see NetworkX already has it! You can find a list of all the graph generators [here](https://networkx.org/documentation/stable/reference/generators.html).\n",
    "\n",
    "### Classic\n",
    "\n",
    "NetworkX has the ability to make a bunch of the graphs you have seen in the theoretical part of the course. They mainly fall under the `classic` namespace. For example, to make a complete graph, we could just use:"
   ]
  },
  {
   "cell_type": "code",
   "execution_count": null,
   "id": "04272e0a-cbb0-49a2-abbd-7eb758952a0d",
   "metadata": {},
   "outputs": [],
   "source": [
    "C = nx.generators.classic.complete_graph(5)\n",
    "C.edges()"
   ]
  },
  {
   "cell_type": "markdown",
   "id": "2e21b8dd-03a4-4437-8e97-f7379eab5e0d",
   "metadata": {},
   "source": [
    "We don't actually have to use the full namespace call that is `nx.generators.classic.complete_graph`, everythin is under the `nx` module"
   ]
  },
  {
   "cell_type": "code",
   "execution_count": null,
   "id": "65c91ac9-fb20-41f2-baad-3e7c52c41fd1",
   "metadata": {},
   "outputs": [],
   "source": [
    "C = nx.complete_graph(5)\n",
    "C.edges()"
   ]
  },
  {
   "cell_type": "markdown",
   "id": "2f97d4df-d919-47b0-bb16-85fb8953b742",
   "metadata": {},
   "source": [
    "#### Exercise\n",
    "\n",
    "Explore the classic generators, create graphs for at least 3 of them. You can list the graphs by typing `nx.generators.classic.[TAB]`. Read the documentation for each (remember you can type (`nx.circulant_graph?`) to see the documentation"
   ]
  },
  {
   "cell_type": "code",
   "execution_count": null,
   "id": "3389afba-fba4-4069-bf48-92d979c096d7",
   "metadata": {},
   "outputs": [],
   "source": []
  },
  {
   "cell_type": "markdown",
   "id": "01522b2e-2273-492a-b089-474360b3a2fe",
   "metadata": {},
   "source": [
    "### Social networks\n",
    "\n",
    "NetworkX contains a number of small graphs from classic work. For example the Zachary karate Club is often used for testing community finding algorithms. It is included in networkx along with the community information"
   ]
  },
  {
   "cell_type": "code",
   "execution_count": null,
   "id": "4309b28d-4a20-4db0-97e5-6b64f1ec25db",
   "metadata": {},
   "outputs": [],
   "source": [
    "KC = nx.karate_club_graph()\n",
    "KC.nodes(data=True)"
   ]
  },
  {
   "cell_type": "markdown",
   "id": "9dca8ea2-23bb-4a5e-abc2-f5a9681ac607",
   "metadata": {},
   "source": [
    "Others are included under `nx.generators.social`. Explore the `davis_southern_women_graph`, what is special about it?"
   ]
  },
  {
   "cell_type": "code",
   "execution_count": null,
   "id": "4c8359ac-69fc-471b-a833-faa8cf2a2d0a",
   "metadata": {},
   "outputs": [],
   "source": []
  },
  {
   "cell_type": "markdown",
   "id": "c3167b02-b157-4716-a8f1-1935e2e412e8",
   "metadata": {},
   "source": [
    "### Random graph models (Erdös-Rényi)\n",
    "\n",
    "Random graphs are often used as models for various physical phenomena, and testing new measures and dynamics. NetworkX has a bunch of them built in. For example the classic Erdős–Rényi graph is implemented as `gnp_random_graph` which takes a number of nodes and a probability of connection between any two nodes"
   ]
  },
  {
   "cell_type": "code",
   "execution_count": null,
   "id": "f6ddb76d-c974-46fa-b8f2-b046c4338e2b",
   "metadata": {},
   "outputs": [],
   "source": [
    "ER = nx.gnp_random_graph(100,1.0/100)\n",
    "ER.size()"
   ]
  },
  {
   "cell_type": "markdown",
   "id": "2f026d01-8875-4e0c-8506-76f2734d69f0",
   "metadata": {},
   "source": [
    "If you run the previous cell multiple times you will see that the number of edges is not fixed, but is a random variable (you could check that the distribution is the correct one). A slight variant allows you to give it the total number of edges to be placed randomly."
   ]
  },
  {
   "cell_type": "code",
   "execution_count": null,
   "id": "be581c81-ec59-474f-87a5-d2de50588f85",
   "metadata": {},
   "outputs": [],
   "source": [
    "ER2 =nx.gnm_random_graph(100,50)\n",
    "ER2.size()"
   ]
  },
  {
   "cell_type": "markdown",
   "id": "d29ab2e9-a759-47d8-80c7-5d908d827e02",
   "metadata": {},
   "source": [
    "### Small world network (Watts-Strogatz)\n",
    "\n",
    "The Erdős–Rényi does not have many of the properties seen in real world social network data, particularly, triadic closures. Watts and Strogatz developed a random graph model which accounts for this, and it's implemented in NetworkX! You can find the original paper [here](https://www.nature.com/articles/30918)."
   ]
  },
  {
   "cell_type": "code",
   "execution_count": null,
   "id": "9420e875-55de-4f69-81bf-e486bc5e41c0",
   "metadata": {},
   "outputs": [],
   "source": [
    "WS = nx.watts_strogatz_graph(10,4,.2)\n",
    "WS.edges()"
   ]
  },
  {
   "cell_type": "markdown",
   "id": "d47ffedf-794c-47a4-b279-b2003cfaabcf",
   "metadata": {},
   "source": [
    "### Scale-free random networks (Barabási-Albert)\n",
    "\n",
    "A common feature of complex networks is their heavy-tailed degree distribution. That is the degrees of the nodes in a graph varies over many orders of magnitude. NetworkX contains a number of random graph models that have power law degree sequences. One of the most famous is the Barabási–Albert model. In this model nodes are added sequentially and a fixed number of edges between new nodes and existing nodes are added with nodes being selected with probability proportional to their degree. You can find the original paper [here](https://www.science.org/doi/10.1126/science.286.5439.509)."
   ]
  },
  {
   "cell_type": "code",
   "execution_count": null,
   "id": "8be43b0c-4f3d-4a95-b8e7-77db7fc434d3",
   "metadata": {},
   "outputs": [],
   "source": [
    "BA = nx.barabasi_albert_graph(10000,1)\n",
    "deg = dict(BA.degree()).values()\n",
    "(min(deg),max(deg))"
   ]
  },
  {
   "cell_type": "markdown",
   "id": "904d3f57-16e4-4575-bb7e-c11142c49e18",
   "metadata": {},
   "source": [
    "## Network analysis tools in NetworkX\n",
    "\n",
    "Now we will review some of the analysis tools included in NetworkX. This doesn't cover everything NetworkX is capable of, but is a should get you started exploring the rest of the package.\n",
    "\n",
    "First we are going to need import some other packages."
   ]
  },
  {
   "cell_type": "code",
   "execution_count": 1,
   "id": "b93f1804-b3b3-44fe-9935-3e67dcce3a27",
   "metadata": {},
   "outputs": [],
   "source": [
    "import networkx as nx\n",
    "\n",
    "import numpy as np\n",
    "import matplotlib.pyplot as plt\n",
    "\n",
    "%matplotlib inline"
   ]
  },
  {
   "cell_type": "markdown",
   "id": "c56468ac-d691-42f9-8f14-ed8493e3b793",
   "metadata": {},
   "source": [
    "NetworkX has implementations to all the classical measures you can think of and some which are not so classical. Whenever you need to do an analysis, it is worth first checking in the [documentation](https://networkx.org/documentation/stable/reference/index.html) if the specific measure is already implemented in NetworkX.\n",
    "\n",
    "**This part of the course is under construction**"
   ]
  },
  {
   "cell_type": "code",
   "execution_count": null,
   "id": "fa8ce812-7c2f-40b1-ab41-dd02cdc8d363",
   "metadata": {},
   "outputs": [],
   "source": []
  }
 ],
 "metadata": {
  "kernelspec": {
   "display_name": "complex_networks",
   "language": "python",
   "name": "complex_networks"
  },
  "language_info": {
   "codemirror_mode": {
    "name": "ipython",
    "version": 3
   },
   "file_extension": ".py",
   "mimetype": "text/x-python",
   "name": "python",
   "nbconvert_exporter": "python",
   "pygments_lexer": "ipython3",
   "version": "3.8.12"
  }
 },
 "nbformat": 4,
 "nbformat_minor": 5
}
