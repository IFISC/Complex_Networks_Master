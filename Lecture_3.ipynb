{
 "cells": [
  {
   "cell_type": "markdown",
   "id": "45461a1d-e58a-4676-ae40-6fb7d951d9ca",
   "metadata": {},
   "source": [
    "# Lecture 3: Graph generators and analysis tools in NetworkX\n",
    "\n",
    "In this lecture we will learn about "
   ]
  }
 ],
 "metadata": {
  "kernelspec": {
   "display_name": "complex_networks",
   "language": "python",
   "name": "complex_networks"
  },
  "language_info": {
   "codemirror_mode": {
    "name": "ipython",
    "version": 3
   },
   "file_extension": ".py",
   "mimetype": "text/x-python",
   "name": "python",
   "nbconvert_exporter": "python",
   "pygments_lexer": "ipython3",
   "version": "3.8.12"
  }
 },
 "nbformat": 4,
 "nbformat_minor": 5
}
