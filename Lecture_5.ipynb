{
 "cells": [
  {
   "cell_type": "markdown",
   "id": "e4c96feb-8dd0-47fa-ae89-259e40d434e0",
   "metadata": {
    "tags": []
   },
   "source": [
    "# Lecture 5: Community detection\n",
    "\n",
    "In this lecture we will learn about some tools for community detection, both in NetworkX and other options. For a great overview on community detection check out [this presentation](https://www.euro-online.org/websites/ewgla/wp-content/uploads/sites/14/2018/11/EWGLA-2015-SantoFortunato.pdf) by Prof. Santo Fortunato.\n",
    "\n",
    "## Introduction\n",
    "\n",
    "### Definition of community detection in networks\n",
    "- Community detection in networks refers to the task of identifying groups of nodes (called communities) that are more densely connected to each other than to the rest of the network.\n",
    "- These communities can often correspond to meaningful structures or patterns in the data, and can help us understand the organization and function of the network.\n",
    "    \n",
    "### Importance of community detection in various fields\n",
    "- Community detection is a widely used technique in various fields, including social network analysis, biological network analysis, text network analysis, and many others.\n",
    "- In social networks, communities can correspond to groups of friends, co-workers, or other social groups. In biological networks, communities can represent functional modules of proteins or pathways in a cellular network. In text networks, communities can represent topics or themes in a corpus of documents.\n",
    "    \n",
    "### Overview of different methods for community detection\n",
    "- There are many different methods for detecting communities in networks, ranging from simple heuristics to more complex algorithms.\n",
    "- Some popular methods include modularity optimization, spectral clustering, random walk-based methods, statistical methods, and many others.\n",
    "- Each method has its own strengths and limitations, and the appropriate method depends on the characteristics of the network and the research goals.\n",
    "\n",
    "## Community detection methods\n",
    "\n",
    "### Overview of different methods for community detection (e.g. modularity optimization, spectral clustering, random walk-based methods, statistical methods,...)\n",
    "\n",
    "#### Modularity optimization\n",
    "Modularity is a measure of the density of edges within communities compared to the density of edges between communities.\n",
    "The modularity optimization method seeks to identify a partition of the nodes into communities that maximizes the modularity of the network.\n",
    "This method is relatively fast and easy to implement, but it may not always find the globally optimal solution.\n",
    "\n",
    "#### Spectral clustering\n",
    "Spectral clustering is a method that uses the eigenvectors of the adjacency matrix or graph Laplacian of the network to perform dimensionality reduction, and then applies clustering algorithms (such as k-means or agglomerative clustering) to the reduced data to identify communities.\n",
    "This method is based on the idea that the eigenvectors of the graph Laplacian capture important structural information about the network, and can be used to reveal the underlying community structure.\n",
    "Spectral clustering is generally more computationally expensive than modularity optimization, but it can be more effective for detecting fine-grained or overlapping communities.\n",
    "\n",
    "#### Random walk-based methods\n",
    "Random walk-based methods use random walks on the network to define a probability distribution over the nodes, and then use this distribution to identify communities based on the relative probabilities of nodes within the same community compared to nodes in different communities.\n",
    "One example of a random walk-based method is the Infomap algorithm, which uses a random walk to define a flow of information over the network, and then identifies communities as the parts of the network with high intra-community flow and low inter-community flow.\n",
    "Random walk-based methods are generally more computationally expensive than modularity optimization and spectral clustering, but they can be effective for detecting hierarchical or overlapping communities.\n",
    "\n",
    "#### Statistical models\n",
    "\n",
    "##### Stochastic block models\n",
    "Stochastic block models are probabilistic generative models for networks in which the nodes are partitioned into a fixed number of communities, and the probability of an edge between two nodes depends on the community membership of the nodes.\n",
    "The goal of community detection using stochastic block models is to estimate the underlying community structure and the parameters of the model (e.g. the number of communities, the community membership of the nodes, the edge probabilities within and between communities) from the observed network.\n",
    "There are various methods for fitting stochastic block models to networks, including maximum likelihood estimation, variational inference, and Markov chain Monte Carlo sampling.\n",
    "\n",
    "##### Latent space models\n",
    "Latent space models are probabilistic generative models that represent the nodes of a network as points in a latent space, and the edges as probabilities based on the distance between the points in the latent space.\n",
    "The latent space is usually assumed to be low-dimensional, and the goal is to learn the latent positions of the nodes and the dimensionality of the latent space from the observed network.\n",
    "Latent space models can be viewed as a generalization of stochastic block models, as they allow for more flexible modeling of the community structure and the edge probabilities.\n",
    "\n",
    "##### Mixed membership models\n",
    "Mixed membership models are probabilistic generative models that allow each node to belong to multiple communities simultaneously, with different probabilities.\n",
    "The goal is to estimate the community membership probabilities for each node and the parameters of the model (e.g. the number of communities, the community membership probabilities) from the observed network.\n",
    "Mixed membership models can capture overlapping and hierarchical community structure, and can be fit using maximum likelihood estimation or variational inference.\n",
    "\n",
    "### Implementing these methods in Python using libraries such as NetworkX, scikit-learn, and Infomap\n",
    "- There are various Python libraries that can be used to implement community detection methods, including NetworkX, scikit-learn, and Infomap.\n",
    "- For example, NetworkX provides functions for modularity optimization and spectral clustering, and Infomap is a standalone library for random walk-based community detection.\n",
    "- In addition to these libraries, it is also possible to implement some methods from scratch using basic Python libraries such as NumPy and SciPy.\n",
    "- You can check the methods implemented in python by accessing [this webpage](https://networkx.org/documentation/stable/reference/algorithms/community.html).\n",
    "\n",
    "We will now try a couple of the algorithms included in networkx for community detection."
   ]
  },
  {
   "cell_type": "code",
   "execution_count": null,
   "id": "a0fd0a18-a3f0-47c3-9e02-0f22d4319443",
   "metadata": {},
   "outputs": [],
   "source": [
    "import networkx as nx\n",
    "import numpy as np\n",
    "import matplotlib.pyplot as plt\n",
    "from matplotlib import cm\n",
    "%matplotlib inline\n",
    "G = nx.karate_club_graph()\n",
    "pos = nx.fruchterman_reingold_layout(G)"
   ]
  },
  {
   "cell_type": "code",
   "execution_count": null,
   "id": "6e72740d-f7d2-4b3f-8d52-2607f08fba58",
   "metadata": {},
   "outputs": [],
   "source": [
    "def draw_karate_network_with_communities(G,pos,communities):\n",
    "    '''\n",
    "    Draws the zakary karate club network with different symbols for the two clubs and different colors for the different communities.\n",
    "    '''\n",
    "    N_com = len(communities)\n",
    "    colors = get_N_HexCol(N_com)\n",
    "    #print(colors)\n",
    "    i = 0\n",
    "    for comm in communities:\n",
    "        comm = list(comm)\n",
    "        # draw nodes belonging to 'Mr. Hi'\n",
    "        nodes_Hi = [node for node in comm if G.nodes[node]['club']=='Mr. Hi']\n",
    "        nx.draw_networkx_nodes(G,pos,nodes_Hi,node_color=colors[i],node_shape='s')\n",
    "        # draw nodes belonging to 'Officer'\n",
    "        nodes_Of = [node for node in comm if G.nodes[node]['club']=='Officer']\n",
    "        nx.draw_networkx_nodes(G,pos,nodes_Of,node_color=colors[i],node_shape='*')\n",
    "        i += 1\n",
    "    nx.draw_networkx_edges(G,pos,G.edges)\n",
    "    plt.axis('off')\n",
    "    return\n",
    "\n",
    "import colorsys\n",
    "def get_N_HexCol(N=5):\n",
    "    HSV_tuples = [(x * 1.0 / N, 0.5, 0.5) for x in range(N)]\n",
    "    hex_out = []\n",
    "    for rgb in HSV_tuples:\n",
    "        rgb = map(lambda x: int(x * 255), colorsys.hsv_to_rgb(*rgb))\n",
    "        hex_out.append('#%02x%02x%02x' % tuple(rgb))\n",
    "    return hex_out"
   ]
  },
  {
   "cell_type": "code",
   "execution_count": null,
   "id": "6e284a6e-0815-4f0d-8b71-3f9edc7180b6",
   "metadata": {},
   "outputs": [],
   "source": [
    "# Modularity optimization\n",
    "\n",
    "communities_modularity = nx.algorithms.community.greedy_modularity_communities(G, weight='weight')\n",
    "print(communities_modularity)\n",
    "draw_karate_network_with_communities(G,pos,communities_modularity)"
   ]
  },
  {
   "cell_type": "code",
   "execution_count": null,
   "id": "1172fa95-cd9a-4e74-8ec8-b441c73665a2",
   "metadata": {},
   "outputs": [],
   "source": [
    "# clique\n",
    "\n",
    "communities_clique = nx.algorithms.community.k_clique_communities(G,3)\n",
    "communities_clique = list(communities_clique)\n",
    "print(communities_clique)\n",
    "draw_karate_network_with_communities(G,pos,list(communities_clique))"
   ]
  },
  {
   "cell_type": "code",
   "execution_count": null,
   "id": "ec130f5e-5140-4ca4-bc74-56e360a35da0",
   "metadata": {},
   "outputs": [],
   "source": [
    "# Girvan Newman -> different levels\n",
    "\n",
    "communities_gn = nx.algorithms.community.girvan_newman(G)\n",
    "communities_gn = list(communities_gn)\n",
    "print(communities_gn[0])\n",
    "draw_karate_network_with_communities(G,pos,communities_gn[0])"
   ]
  },
  {
   "cell_type": "code",
   "execution_count": null,
   "id": "bccaeac0-8be7-41be-ac5f-a96de8931266",
   "metadata": {},
   "outputs": [],
   "source": [
    "# label propagation\n",
    "\n",
    "communities_lp = nx.algorithms.community.label_propagation_communities(G)\n",
    "communities_lp = list(communities_lp)\n",
    "print(communities_lp)\n",
    "draw_karate_network_with_communities(G,pos,communities_lp)"
   ]
  },
  {
   "cell_type": "markdown",
   "id": "d9d54850-8feb-497a-8c85-0f9e4b1bf3b3",
   "metadata": {},
   "source": [
    "Now let's try infomap. There is a specific package in python that implements infomap. You should install it by typing in a terminal (with the `complex_networks` environment activated):\n",
    "```bash\n",
    "pip install infomap\n",
    "```\n",
    "Let's take a look at what [Infomap does](https://www.mapequation.org/infomap/#Input). You can see the usage of this package [here](https://mapequation.github.io/infomap/python/) and [here](https://mapequation.github.io/infomap/python/infomap.html)."
   ]
  },
  {
   "cell_type": "code",
   "execution_count": null,
   "id": "5f0dd3e5-b976-4cd8-9aff-e3a5b07161ae",
   "metadata": {},
   "outputs": [],
   "source": [
    "from infomap import Infomap\n",
    "im = Infomap()\n",
    "mapping = im.add_networkx_graph(G)\n",
    "im.run()"
   ]
  },
  {
   "cell_type": "code",
   "execution_count": null,
   "id": "6a7d8974-3cd4-40a8-99c1-b5d858dc592e",
   "metadata": {},
   "outputs": [],
   "source": [
    "communities_dict = {}\n",
    "for node in im.tree:\n",
    "    if node.is_leaf:\n",
    "        #print(node.node_id, node.module_id)\n",
    "        communities_dict[node.node_id] = node.module_id\n",
    "N_comm = np.max(list(communities_dict.values()))\n",
    "communities_im = N_comm*[[]]\n",
    "for i in range(N_comm):\n",
    "    communities_im[i] = [node for node in communities_dict.keys() if communities_dict[node]==i+1]\n",
    "print(communities_im)\n",
    "draw_karate_network_with_communities(G,pos,communities_im)"
   ]
  },
  {
   "cell_type": "markdown",
   "id": "a05d2288-d5da-4fef-87b2-9b03a7b4f152",
   "metadata": {
    "tags": []
   },
   "source": [
    "### Evaluation of community detection results using metrics such as modularity, normalized mutual information, and adjusted Rand index\n",
    "- It is important to evaluate the quality of the detected communities in order to assess the performance of the community detection method.\n",
    "- Some common metrics for evaluating community detection results include modularity, normalized mutual information, and adjusted Rand index.\n",
    "- These metrics can be computed using libraries such as sklearn and NetworkX, or can be implemented manually using basic Python functions.\n",
    "\n",
    "#### Modularity\n",
    "\n",
    "Modularity is a measure of the structure of networks or graphs which measures the strength of division of a network into modules (also called groups, clusters or communities). Networks with high modularity have dense connections between the nodes within modules but sparse connections between nodes in different modules. Modularity is often used in optimization methods for detecting community structure in networks. However, it has been shown that modularity suffers a resolution limit and, therefore, it is unable to detect small communities. (From [Wikipedia](https://en.wikipedia.org/wiki/Modularity_(networks)))\n",
    "\n",
    "Modularity is defined as:\n",
    "\n",
    "$$\n",
    "Q=\\frac{1}{2m}\\sum_{ij}\\left[A_{ij}-\\gamma\\frac{k_ik_j}{2m}\\right]\\delta(c_i,c_j)\n",
    "$$\n",
    "where $m$ is the number of edges, $A$ is the adjacency matrix of $G$, $k_i$ is the degree of $i$, $\\gamma$ is the resolution parameter, and $\\delta(c_i,c_j)$ is 1 if $i$ and $j$ are in the same community else 0.\n",
    "\n",
    "It is already implemented in networkx through the function `networkx.algorithms.community.modularity()`. Documentation is [here](https://networkx.org/documentation/stable/reference/algorithms/generated/networkx.algorithms.community.quality.modularity.html#networkx.algorithms.community.quality.modularity)."
   ]
  },
  {
   "cell_type": "code",
   "execution_count": null,
   "id": "9c6571dc-1d51-41ab-8b25-a6ef19b2be35",
   "metadata": {},
   "outputs": [],
   "source": [
    "mod_mod = nx.algorithms.community.modularity(G,communities_modularity)\n",
    "print('modularity optimization:',mod_mod)\n",
    "mod_lp = nx.algorithms.community.modularity(G,communities_lp)\n",
    "print('modularity label_propagation:',mod_lp)\n",
    "mod_gn = nx.algorithms.community.modularity(G,communities_gn[0])\n",
    "print('Girvan Newman optimization:',mod_gn)\n",
    "mod_im = nx.algorithms.community.modularity(G,communities_im)\n",
    "print('Infomap optimization:',mod_im)"
   ]
  },
  {
   "cell_type": "markdown",
   "id": "48d34693-e77f-48c9-9488-622978d709a6",
   "metadata": {},
   "source": [
    "#### Coverage and performance\n",
    "\n",
    "The coverage of a partition is the ratio of the number of intra-community edges to the total number of edges in the graph.\n",
    "\n",
    "The performance of a partition is the number of intra-community edges plus inter-community non-edges divided by the total number of potential edges.\n",
    "\n",
    "Again, this is implemented in networkx through the function `networkx.algorithms.community.partition_quality()`. Documentation [here](https://networkx.org/documentation/stable/reference/algorithms/generated/networkx.algorithms.community.quality.partition_quality.html#networkx.algorithms.community.quality.partition_quality)."
   ]
  },
  {
   "cell_type": "code",
   "execution_count": null,
   "id": "f3249810-3844-4742-8e7a-dd1175c01b3b",
   "metadata": {},
   "outputs": [],
   "source": [
    "qual_mod = nx.algorithms.community.partition_quality(G,communities_modularity)\n",
    "print('Modularity (coverage,performance):',qual_mod)\n",
    "qual_lp = nx.algorithms.community.partition_quality(G,communities_lp)\n",
    "print('Label propagation (coverage,performance):',qual_lp)\n",
    "qual_gn = nx.algorithms.community.partition_quality(G,communities_gn[0])\n",
    "print('Girvan Newman (coverage,performance):',qual_gn)\n",
    "qual_im = nx.algorithms.community.partition_quality(G,communities_im)\n",
    "print('Infomap (coverage,performance):',qual_im)"
   ]
  },
  {
   "cell_type": "markdown",
   "id": "419bb747-7b3c-49c2-bccd-4a07eaa3f80a",
   "metadata": {},
   "source": [
    "#### Comparing partitions: Normalised mutual information (NMI)\n",
    "\n",
    "Normalized Mutual Information (NMI) is a normalization of the Mutual Information (MI) score to scale the results between 0 (no mutual information) and 1 (perfect correlation).\n",
    "\n",
    "It is implemented in the module scikit-learn in python. We need to create a vector for each partition that gives us the community of each node.\n",
    "\n",
    "Other options for this are the [adjusted version of NMI](https://scikit-learn.org/stable/modules/generated/sklearn.metrics.adjusted_mutual_info_score.html#sklearn.metrics.adjusted_mutual_info_score) (adjusted for chance), or the [adjusted Rand index](https://scikit-learn.org/stable/modules/generated/sklearn.metrics.adjusted_rand_score.html#sklearn.metrics.adjusted_rand_score)."
   ]
  },
  {
   "cell_type": "code",
   "execution_count": null,
   "id": "a7eac769-1f7e-45f7-b022-d550b16c56ea",
   "metadata": {},
   "outputs": [],
   "source": [
    "# do this in class and compare the different partitions we have"
   ]
  },
  {
   "cell_type": "markdown",
   "id": "2a4609a7-4d72-429d-b94a-cb4d20ff0758",
   "metadata": {},
   "source": [
    "#### Exercise\n",
    "\n",
    "Apply the community detection methods we have implemented (or more, or different ones that are available through networkx). And compare the results of the different methods."
   ]
  },
  {
   "cell_type": "markdown",
   "id": "f4bcaa4c-d6d6-4de5-bf83-04b285c2ac4f",
   "metadata": {},
   "source": [
    "### Consensus community detection\n",
    "\n",
    "This consists in using different methods to get partitions and creating a consensus graph, to which a further community detection method is applied. See [this paper](https://www.nature.com/articles/srep00336).\n",
    "\n",
    "![Consensus community detection](./data/consensus_comm_det.png)"
   ]
  },
  {
   "cell_type": "markdown",
   "id": "11fb0f45-3f55-4b4b-87a9-a800d27365b5",
   "metadata": {},
   "source": [
    "## Applications of community detection:\n",
    "\n",
    "### Case studies demonstrating the use of community detection in real-world scenarios such as social network analysis, biological network analysis, and text network analysis\n",
    "- Examples of the use of community detection in different fields such as social network analysis, biological network analysis, and text network analysis.\n",
    "- These case studies can illustrate the benefits of using community detection in understanding the structure and function of the network, and can provide insight into the appropriate choice of methods and evaluation metrics for different types of data.\n",
    "### Hands-on exercises applying community detection methods to different types of networks\n",
    "- Practical exercises in which students apply community detection methods to different types of networks, such as social networks, biological networks, and text networks.\n",
    "- These exercises can help students gain experience in using Python libraries and implementing community detection methods, as well as evaluating the results using different metrics.\n",
    "\n",
    "\n",
    "## Advanced topics:\n",
    "\n",
    "### Extension of community detection methods to overlapping and dynamic communities\n",
    "- Many networks have communities that overlap, meaning that a node can belong to multiple communities simultaneously.\n",
    "- There are methods that can handle overlapping communities, such as the Louvain method and the clique percolation method.\n",
    "- Dynamic networks, on the other hand, change over time, and there are methods that can track the evolution of communities over time, such as the temporal modularity optimization method.\n",
    "### Incorporating additional network features (e.g. node attributes, temporal information) in community detection\n",
    "- In some cases, the network may have additional features such as node attributes (e.g. age, gender, location) or temporal information (e.g. when the edges were formed).\n",
    "- These features can be incorporated into the community detection process in order to obtain more nuanced and meaningful communities.\n",
    "- For example, node attributes can be used as constraints or weights in the community detection process, and temporal information can be used to track the evolution of communities over time.\n",
    "### Scalability of community detection methods for large-scale networks\n",
    "- For very large networks, it may be computationally infeasible to apply community detection methods directly.\n",
    "- There are various techniques that can be used to scale up community detection methods to handle large-scale networks, such as sampling, parallelization, and approximate methods.\n",
    "- It is important to consider the scalability of the chosen method in order to ensure that the results can be obtained in a reasonable amount of time."
   ]
  },
  {
   "cell_type": "markdown",
   "id": "b3e494fa-a9f2-42ef-99f8-935e46b5f30c",
   "metadata": {},
   "source": [
    "## Exercise: Community detection in a social network\n",
    "\n",
    "In this exercise, you will apply community detection methods to a real-world social network dataset and evaluate the results.\n",
    "\n",
    "1. Obtain the dataset:\n",
    "    - The dataset consists of a social network of friendships between Facebook users.\n",
    "    - The network is represented as an undirected, unweighted graph in which each node represents a user and each edge represents a friendship.\n",
    "    - The dataset can be obtained from the SNAP (Stanford Network Analysis Project) website (https://snap.stanford.edu/data/ego-Facebook.html).\n",
    "\n",
    "2. Load the dataset into Python:\n",
    "    - Use a library such as NetworkX to read the dataset file and create a network object in Python.\n",
    "    - Explore the network by printing the number of nodes and edges, and by visualizing at least a small subgraph.\n",
    "\n",
    "3. Apply community detection methods:\n",
    "    - Choose at least two different community detection methods.\n",
    "    - Use the chosen methods to detect communities in the network.\n",
    "    - Visualize the detected communities by coloring the nodes in the network according to their community membership.\n",
    "\n",
    "4. Evaluate the results:\n",
    "    - Use metrics such as modularity and normalized mutual information to evaluate the quality of the detected communities.\n",
    "    - Compare the results of the different methods and discuss the strengths and limitations of each method."
   ]
  },
  {
   "cell_type": "code",
   "execution_count": null,
   "id": "f419d4cc-1f8e-48e4-9ba2-30a07431965e",
   "metadata": {},
   "outputs": [],
   "source": []
  }
 ],
 "metadata": {
  "kernelspec": {
   "display_name": "complex_networks_infomap",
   "language": "python",
   "name": "complex_networks_infomap"
  },
  "language_info": {
   "codemirror_mode": {
    "name": "ipython",
    "version": 3
   },
   "file_extension": ".py",
   "mimetype": "text/x-python",
   "name": "python",
   "nbconvert_exporter": "python",
   "pygments_lexer": "ipython3",
   "version": "3.8.12"
  }
 },
 "nbformat": 4,
 "nbformat_minor": 5
}
