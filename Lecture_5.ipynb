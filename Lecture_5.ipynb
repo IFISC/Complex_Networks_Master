{
 "cells": [
  {
   "cell_type": "markdown",
   "id": "e4c96feb-8dd0-47fa-ae89-259e40d434e0",
   "metadata": {},
   "source": [
    "# Lecture 5: Community detection\n",
    "\n",
    "In this lecture we will learn about some tools for community detection, both in NetworkX and other options."
   ]
  }
 ],
 "metadata": {
  "kernelspec": {
   "display_name": "complex_networks",
   "language": "python",
   "name": "complex_networks"
  },
  "language_info": {
   "codemirror_mode": {
    "name": "ipython",
    "version": 3
   },
   "file_extension": ".py",
   "mimetype": "text/x-python",
   "name": "python",
   "nbconvert_exporter": "python",
   "pygments_lexer": "ipython3",
   "version": "3.8.12"
  }
 },
 "nbformat": 4,
 "nbformat_minor": 5
}
