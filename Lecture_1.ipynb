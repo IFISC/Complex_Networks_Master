{
 "cells": [
  {
   "cell_type": "markdown",
   "id": "f68e78c2-1cfb-4360-8be7-7b7354a896b0",
   "metadata": {},
   "source": [
    "# 1st lecture: Setting up the working environment and meeting Python\n",
    "\n",
    "In this first lecture we will be setting a working environment for our network projects in Python.\n",
    "\n",
    "## Jupyter lab and virtual environments\n",
    "\n",
    "For this course we will be using [Jupyter lab](https://jupyter.org/), which is a browser-based platform for developing python projects. Besides that we will also create a virtual environment, which is a collection of modules that are used for our projects and will be very useful if the modules are being updated with new versions, so that in our virtual environment the code will always work, as it will use the same versions of the modules we have used for generating the code.\n",
    "\n",
    "Let's start step by step. First of all we need to install jupyter lab in our computer."
   ]
  },
  {
   "cell_type": "code",
   "execution_count": null,
   "id": "34438848-2a04-4b1c-8e7c-72c2bc4c038d",
   "metadata": {},
   "outputs": [],
   "source": []
  }
 ],
 "metadata": {
  "kernelspec": {
   "display_name": "complex_networks",
   "language": "python",
   "name": "complex_networks"
  },
  "language_info": {
   "codemirror_mode": {
    "name": "ipython",
    "version": 3
   },
   "file_extension": ".py",
   "mimetype": "text/x-python",
   "name": "python",
   "nbconvert_exporter": "python",
   "pygments_lexer": "ipython3",
   "version": "3.8.12"
  }
 },
 "nbformat": 4,
 "nbformat_minor": 5
}
