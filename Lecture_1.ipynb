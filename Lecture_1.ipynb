{
 "cells": [
  {
   "cell_type": "markdown",
   "id": "f68e78c2-1cfb-4360-8be7-7b7354a896b0",
   "metadata": {
    "tags": []
   },
   "source": [
    "# 1st lecture: Meeting Python and NetwokX\n",
    "\n",
    "In this first lecture we will be setting a working environment for our network projects in Python.\n",
    "\n",
    "## Introduction to Python\n",
    "\n",
    "From the [Wikipedia](https://en.wikipedia.org/wiki/Python_(programming_language)) page of [python](https://www.python.org/) we can read its general description:\n",
    "\n",
    ">Python is a high-level, general-purpose programming language. Its design philosophy emphasizes code readability with the use of significant indentation.\n",
    ">\n",
    ">Python is dynamically-typed and garbage-collected. It supports multiple programming paradigms, including structured (particularly procedural), object-oriented and functional programming. It is often described as a \"batteries included\" language due to its comprehensive standard library.\n",
    ">\n",
    ">Guido van Rossum began working on Python in the late 1980s as a successor to the ABC programming language and first released it in 1991 as Python 0.9.0. Python 2.0 was released in 2000 and introduced new features such as list comprehensions, cycle-detecting garbage collection, reference counting, and Unicode support. Python 3.0, released in 2008, was a major revision that is not completely backward-compatible with earlier versions. Python 2 was discontinued with version 2.7.18 in 2020.\n",
    "\n",
    "### Working with jupyter notebooks\n",
    "\n",
    "We are going to use something called [Jupyter Notebook](http://jupyter.org/). This notebook will serve as a quick introduction to Python and Jupyter notebook.\n",
    "\n",
    "For example, to print out the words `Hello, World`, all we have to do is enter the following code, and execute it. To execute code click in the box below (called a cell) and hold the Shift key and press Enter.\n"
   ]
  },
  {
   "cell_type": "code",
   "execution_count": null,
   "id": "34438848-2a04-4b1c-8e7c-72c2bc4c038d",
   "metadata": {
    "tags": []
   },
   "outputs": [],
   "source": [
    "print(\"Hello, World\")"
   ]
  },
  {
   "cell_type": "markdown",
   "id": "b2a134eb-40d3-41b6-b0b7-306a03066872",
   "metadata": {},
   "source": [
    "Now let's try to print something else. Instead of having python print `Hello, World`, have it print your name! Click in the box and type the code to do that."
   ]
  },
  {
   "cell_type": "markdown",
   "id": "94ebcad2-c6c3-4d65-9215-55d6ec8a87d0",
   "metadata": {},
   "source": [
    "The notebook contains *cells* which you can enter code into. To make a new cell below this one, click on this text, then hit the ESC key, then hit the 'b' button on your keyboard."
   ]
  },
  {
   "cell_type": "markdown",
   "id": "01f48b2d-0349-45bf-aa2d-382e7c43e51e",
   "metadata": {},
   "source": [
    "Anytime you want to insert a new cell, you can click somewhere, hit the escape key, then hit 'b' to insert a new cell below, or 'a' to put a new cell above. You can double click this text to edit it. Execute all the code cells that are already in the notebook as you go! "
   ]
  },
  {
   "cell_type": "markdown",
   "id": "6c3672eb-7cc1-4856-befd-d7e1a6fcc3fb",
   "metadata": {},
   "source": [
    "Cells can contain test, like this one, or code. Text is formatted using the markdown language, for which you can find a guide [here](https://www.markdownguide.org/)."
   ]
  },
  {
   "cell_type": "markdown",
   "id": "36dd1479-f2b3-498c-bad1-461ea95e21f9",
   "metadata": {},
   "source": [
    "One of the problems with jupyter notebooks is that the output of a code cell might depend on the outputs of other cells and thus in the order in which the cells are executed. It is a very useful way of playing with code and prototyping, but I strongly recommend that you create a script once you have the code working as tou want."
   ]
  },
  {
   "cell_type": "markdown",
   "id": "db13e79e-7fc8-417b-bf84-4b0f4fc7bae4",
   "metadata": {},
   "source": [
    "### Python basics\n",
    "#### Lists and dictionaries\n",
    "Python is a very easy language to learn. If you want to store some information in a variable, you use the equals sign (=). Execute the cell below (click in it, hold shift, and press enter)."
   ]
  },
  {
   "cell_type": "code",
   "execution_count": null,
   "id": "183895f6-2bfa-450e-bebe-fed889834feb",
   "metadata": {},
   "outputs": [],
   "source": [
    "x = 5"
   ]
  },
  {
   "cell_type": "markdown",
   "id": "04a0b211-a41c-4eb7-8f28-766fa617897b",
   "metadata": {},
   "source": [
    "Now, whenever python sees 'x' it will know that you mean 5"
   ]
  },
  {
   "cell_type": "code",
   "execution_count": null,
   "id": "a9206bb9-8ab2-46b3-a8aa-9ce04a55a90d",
   "metadata": {},
   "outputs": [],
   "source": [
    "print(x)"
   ]
  },
  {
   "cell_type": "markdown",
   "id": "ac9847f8-4de6-4d2a-beef-b2b1daa03453",
   "metadata": {},
   "source": [
    "Jupyter Notebook is special in that you don't actually have to type 'print' every time. If you just end a cell with a variable, it will tell you the value of that variable."
   ]
  },
  {
   "cell_type": "code",
   "execution_count": null,
   "id": "7198d7f7-b08d-4d7e-a72a-0ddbd1284095",
   "metadata": {},
   "outputs": [],
   "source": [
    "x"
   ]
  },
  {
   "cell_type": "markdown",
   "id": "ad57d337-0580-4f87-a7ea-9512f16db639",
   "metadata": {},
   "source": [
    "Python has many standard features you'd find in a regular programming language. You can add things together"
   ]
  },
  {
   "cell_type": "code",
   "execution_count": null,
   "id": "ac109b14-20b5-4424-861f-48fc7254f09a",
   "metadata": {},
   "outputs": [],
   "source": [
    "(x+12)/2."
   ]
  },
  {
   "cell_type": "markdown",
   "id": "3be2ac21-43af-4867-bf91-c02ddd9c2cb2",
   "metadata": {},
   "source": [
    "You can multiply, subtract and divide as well! Try each below!"
   ]
  },
  {
   "cell_type": "code",
   "execution_count": null,
   "id": "ab4608f9-a255-46e9-8adf-6b427a90fcb5",
   "metadata": {},
   "outputs": [],
   "source": []
  },
  {
   "cell_type": "markdown",
   "id": "1210980c-b95e-4afb-bc66-53eb0cbee070",
   "metadata": {},
   "source": [
    "You declare strings with double quotes (\"\") or single quotes ('')"
   ]
  },
  {
   "cell_type": "code",
   "execution_count": null,
   "id": "fdd1e928-c4d5-45a3-b955-f70192ebb65e",
   "metadata": {},
   "outputs": [],
   "source": [
    "s = \"Parrot\"\n",
    "print(s)"
   ]
  },
  {
   "cell_type": "markdown",
   "id": "cf824c5b-0442-406d-aaac-d7bb60986ed9",
   "metadata": {},
   "source": [
    "Python has builtin support for lists. You can make lists with square brackets ([]). Lists can contain any type of elements in them."
   ]
  },
  {
   "cell_type": "code",
   "execution_count": null,
   "id": "a5595031-266a-4a59-b1bf-aa5c17d92ad3",
   "metadata": {},
   "outputs": [],
   "source": [
    "L = [\"Cheese\",\"Parrot\",\"Spam\",\"Sir Robin\",\"Ni!\",23]\n",
    "print(L)"
   ]
  },
  {
   "cell_type": "markdown",
   "id": "c50af823-99c1-42c8-a77a-11c1892c2d29",
   "metadata": {},
   "source": [
    "You can access elements in a list using square brackets. Inside the square brackets you can put the number of the element you want to access (starting with 0)."
   ]
  },
  {
   "cell_type": "code",
   "execution_count": null,
   "id": "6967d918-71df-4a86-a34a-f733e4daf5ec",
   "metadata": {},
   "outputs": [],
   "source": [
    "L[2]"
   ]
  },
  {
   "cell_type": "markdown",
   "id": "5cce0bd2-ffb9-4f37-91ef-3de4538d0a97",
   "metadata": {},
   "source": [
    "You can also access the end of the list by using negative indices, so to access the last item you can look for the item of index -1"
   ]
  },
  {
   "cell_type": "code",
   "execution_count": null,
   "id": "18a25f5a-8d20-4f42-8e63-8affb9b7f4e3",
   "metadata": {},
   "outputs": [],
   "source": [
    "L[-1]"
   ]
  },
  {
   "cell_type": "markdown",
   "id": "cb34395e-d5ea-45a6-8199-27f10c9ae2bc",
   "metadata": {},
   "source": [
    "Lists (and other structures like arrays, that we will see later) have support for *slicing*, which means you can take a slice of the list by telling the first element you want and the element before it will stop"
   ]
  },
  {
   "cell_type": "code",
   "execution_count": null,
   "id": "01e3ef40-0c93-4e69-acec-58a4ae91422d",
   "metadata": {},
   "outputs": [],
   "source": [
    "L[1:-2]"
   ]
  },
  {
   "cell_type": "markdown",
   "id": "9ae5d2a3-351f-47ba-9bf4-deedc8e0a72e",
   "metadata": {},
   "source": [
    "To add elements to a list you can use the method `append`."
   ]
  },
  {
   "cell_type": "code",
   "execution_count": null,
   "id": "ef968218-431c-4c6c-952b-84dd7d6a7019",
   "metadata": {},
   "outputs": [],
   "source": [
    "L.append('complex networks')\n",
    "print(L)"
   ]
  },
  {
   "cell_type": "markdown",
   "id": "7cb871be-64be-4099-a99e-47c27d36cf3b",
   "metadata": {},
   "source": [
    "You can also create an empty list "
   ]
  },
  {
   "cell_type": "code",
   "execution_count": null,
   "id": "348fd0a6-d952-4947-a142-311735cd7af6",
   "metadata": {},
   "outputs": [],
   "source": [
    "my_list = list()\n",
    "print(len(my_list))"
   ]
  },
  {
   "cell_type": "markdown",
   "id": "a3b2955b-806e-42d5-85c5-9efa7323ff77",
   "metadata": {},
   "source": [
    "Last python has a data structure called a dictionary. This is their implementation of a hash table. It is similar to a list except that it is indexed by other objects (keys). They are efficient and NetworkX makes extensive use of them. This are made using curly braces({}) and colons(:). They associate a name with an item. They can be useful for storing properties about an object. You can add things to dictionaries after you create them."
   ]
  },
  {
   "cell_type": "code",
   "execution_count": null,
   "id": "fd6df940-7a8e-429f-afbd-f32570a6460f",
   "metadata": {},
   "outputs": [],
   "source": [
    "d = {\"Name\":\"Arthur\",\n",
    "     \"Occupation\":\"King of the Britons\",\n",
    "     \"Squire\":\"Patsy\",\n",
    "     \"Number of Subjects\":1250238}\n",
    "print(d[\"Name\"])\n",
    "d[\"Sword\"] = \"Excalibur\"\n",
    "print(d.keys())\n",
    "print(d.values())\n",
    "print(type(d.keys()))\n",
    "for key in sorted(d.keys()):\n",
    "    print(key,d[key])\n",
    "print('Done')"
   ]
  },
  {
   "cell_type": "markdown",
   "id": "b41349d6-d5a4-4c40-8d83-7cafab3f5886",
   "metadata": {},
   "source": [
    "#### If statements\n",
    "If statements allow your code to make decisions, for example:"
   ]
  },
  {
   "cell_type": "code",
   "execution_count": null,
   "id": "d8872d0b-17ef-4b03-be53-ab743ff6185f",
   "metadata": {},
   "outputs": [],
   "source": [
    "x = 1\n",
    "if x > 10: # Remember the '>' symbol means greater than\n",
    "    print(\"SOOO BIG!\")\n",
    "elif x < 5:\n",
    "    print(\"Not so big\")\n",
    "else:\n",
    "    print('x between 5 and 10',x)"
   ]
  },
  {
   "cell_type": "markdown",
   "id": "9e8b1f00-08b9-4c7a-a46f-3ce9d00b3b44",
   "metadata": {},
   "source": [
    "Note that what is inside of an if statement (same will be true for loops) is defined by the indentation of the code, so that the block of code is finished by unindenting."
   ]
  },
  {
   "cell_type": "markdown",
   "id": "671fe8f7-e53f-415c-87be-cf64eb61ad16",
   "metadata": {},
   "source": [
    "Copy the code above, into the cell below. Change it so it prints \"SOOO BIG!\". Change it in another way so it does something different"
   ]
  },
  {
   "cell_type": "code",
   "execution_count": null,
   "id": "6bfc93a0-10d3-420d-b489-d3384d200b02",
   "metadata": {},
   "outputs": [],
   "source": []
  },
  {
   "cell_type": "markdown",
   "id": "11385af5-03dd-4e60-995d-932e18e7bc52",
   "metadata": {},
   "source": [
    "#### Loops\n",
    "Sometimes we want to do things repeatedly. The best way to do that is with loops."
   ]
  },
  {
   "cell_type": "code",
   "execution_count": null,
   "id": "3b1f52ad-a80e-47e5-8b38-6a2a11c2fdff",
   "metadata": {},
   "outputs": [],
   "source": [
    "for name in [\"Bob\",\"Bill\",\"Helga\",\"Joe\",\"Mike\",\"Brenda\"]:\n",
    "    print(\"Hello, \"+name+ \"!\")"
   ]
  },
  {
   "cell_type": "markdown",
   "id": "02ef0be5-1f03-4003-b6e4-2d5dd64eb6f9",
   "metadata": {},
   "source": [
    "Copy the code above. Add a variable i=0 before the loop. Inside the loop make it so 1 is added to i each time through, and print i."
   ]
  },
  {
   "cell_type": "code",
   "execution_count": null,
   "id": "4211c11e-07ab-4fff-a0b1-2a9ba16ec116",
   "metadata": {},
   "outputs": [],
   "source": []
  },
  {
   "cell_type": "markdown",
   "id": "c7965bbf-e345-4e28-9caf-407d76ddc429",
   "metadata": {},
   "source": [
    "You can also make a variable go from a to b-1 by writing"
   ]
  },
  {
   "cell_type": "code",
   "execution_count": null,
   "id": "1d7a292a-86b7-4b79-937b-4a6527cecc7b",
   "metadata": {},
   "outputs": [],
   "source": [
    "a = 2\n",
    "b = 6\n",
    "for i in range(a,b):\n",
    "    print(i)"
   ]
  },
  {
   "cell_type": "markdown",
   "id": "16025cc2-30e0-4803-9ed2-78b6f46e8cb0",
   "metadata": {},
   "source": [
    "#### Encapsulating code: functions\n",
    "Sometimes we want to encapsulate a certain piece of code that we use many times into what is called a function. Functions are created using the word `def` followed by the name of the function and its variables between parenthesis. "
   ]
  },
  {
   "cell_type": "code",
   "execution_count": null,
   "id": "fa5e283d-673c-41c3-8ca2-f0e8334f0dd3",
   "metadata": {},
   "outputs": [],
   "source": [
    "def salute(name,age=25):\n",
    "    '''\n",
    "    This function says hello and says the name and age of the person. The default of the age is 25. \n",
    "    Also it returns a dictionary with the name as key and the age as value\n",
    "    '''\n",
    "    print('Hello '+name+'. You are '+str(age)+' years old.')\n",
    "    age_dict = {name:age}\n",
    "    return age_dict"
   ]
  },
  {
   "cell_type": "markdown",
   "id": "8d500b0c-dd53-4882-afd1-08810a07db5e",
   "metadata": {},
   "source": [
    "Let's see the function working"
   ]
  },
  {
   "cell_type": "code",
   "execution_count": null,
   "id": "f80984a0-d392-4ea3-9985-905b7d776ddf",
   "metadata": {},
   "outputs": [],
   "source": [
    "age_juan = salute('Juan',38)"
   ]
  },
  {
   "cell_type": "markdown",
   "id": "88cfd31e-d783-4c84-91ef-619517dd2df4",
   "metadata": {},
   "source": [
    "Now I can access the dictionary, because I saved it when calling the function"
   ]
  },
  {
   "cell_type": "code",
   "execution_count": null,
   "id": "e6f8c870-3958-4e64-8c17-f56def181de7",
   "metadata": {},
   "outputs": [],
   "source": [
    "print(age_juan)"
   ]
  },
  {
   "cell_type": "markdown",
   "id": "45b91ec3-d0d0-47a1-9285-01b7af9d279e",
   "metadata": {},
   "source": [
    "#### Accessing available functions, documentation and code\n",
    "Jupyter notebook has some special features that can be particularly helpful. For example it has built in completion. Let's import a module and check it out."
   ]
  },
  {
   "cell_type": "code",
   "execution_count": null,
   "id": "f149f2f4-97cb-4c10-9b00-3445e6d22f7b",
   "metadata": {},
   "outputs": [],
   "source": [
    "import numpy as np"
   ]
  },
  {
   "cell_type": "markdown",
   "id": "c49d7f86-12f3-4b45-a289-9a36aa963cbf",
   "metadata": {},
   "source": [
    "Now you can view all the functions in numpy by typing `np.[TAB]`, that is type `np.` and then hit the tab key"
   ]
  },
  {
   "cell_type": "code",
   "execution_count": null,
   "id": "1e9abe2a-3e4c-4c3d-812f-1cf6dded24c4",
   "metadata": {},
   "outputs": [],
   "source": []
  },
  {
   "cell_type": "markdown",
   "id": "3cd05313-df93-421d-9088-85250ebda9a5",
   "metadata": {},
   "source": [
    "If you are looking for a particular function you can just start typing the name. Let's say we are looking for the shortest path functions in NetworkX. We would import NetworkX"
   ]
  },
  {
   "cell_type": "code",
   "execution_count": null,
   "id": "43297d62-db2a-4635-ae97-029cf9914da7",
   "metadata": {},
   "outputs": [],
   "source": [
    "import networkx as nx"
   ]
  },
  {
   "cell_type": "markdown",
   "id": "102a96a8-5bbf-41a6-9835-a6cdd501e7c3",
   "metadata": {},
   "source": [
    "Then we can type `nx.sho[TAB]` and it will list all the functions that start with `sho` in the networkx module"
   ]
  },
  {
   "cell_type": "code",
   "execution_count": null,
   "id": "5784b902-c0a1-4505-bc77-db5bfe085780",
   "metadata": {},
   "outputs": [],
   "source": []
  },
  {
   "cell_type": "markdown",
   "id": "d47d6903-321f-4152-a68e-0917fc9a614d",
   "metadata": {},
   "source": [
    "One of the best features of Jupyter notebook is the ability to read documentation. You can do this by adding a `?` to modules, classes, or functions."
   ]
  },
  {
   "cell_type": "code",
   "execution_count": null,
   "id": "5ffe6df7-105e-42db-8806-fba69eba0b9d",
   "metadata": {},
   "outputs": [],
   "source": [
    "nx.betweenness_centrality?"
   ]
  },
  {
   "cell_type": "markdown",
   "id": "37c9a0fa-22b4-4e70-b011-dab2ad8605a7",
   "metadata": {},
   "source": [
    "Let's take a look at the documentation of the function we created a while ago"
   ]
  },
  {
   "cell_type": "code",
   "execution_count": null,
   "id": "931c1819-0a7f-4581-a9f2-9d87251297a5",
   "metadata": {},
   "outputs": [],
   "source": [
    "salute?"
   ]
  },
  {
   "cell_type": "markdown",
   "id": "01422bd6-0791-4c82-9fa0-151f1fe722a4",
   "metadata": {},
   "source": [
    "So, by putting a description after the definition of a function enclosed by triple single quotes we are creating the documantation directly!"
   ]
  },
  {
   "cell_type": "markdown",
   "id": "43c0ddec-49ca-41de-9218-adf9bd9a4d24",
   "metadata": {},
   "source": [
    "If you want to view the code for the function you can use `??`"
   ]
  },
  {
   "cell_type": "code",
   "execution_count": null,
   "id": "27e3eef6-fb84-4f4d-8ecb-a8fa133a87e5",
   "metadata": {},
   "outputs": [],
   "source": [
    "nx.gnp_random_graph??"
   ]
  },
  {
   "cell_type": "markdown",
   "id": "3e99db6d-d55c-41c9-8670-eeabe4b585df",
   "metadata": {},
   "source": [
    "If you'd like to learn more about notebooks check out the notebook docs [here](http://jupyter-notebook-beginner-guide.readthedocs.org/en/latest/). But this should be enough to get us started with NetworkX. There is lots more to learn, but we need to get onto our network analysis. If you are interested in learning more python I recommend that ytou take a look at [these resources](https://wiki.python.org/moin/BeginnersGuide)"
   ]
  },
  {
   "cell_type": "markdown",
   "id": "29070868-f7cc-4146-80df-745e3b193c89",
   "metadata": {},
   "source": [
    "## Introduction to NetworkX\n",
    "NetworkX is a python module. To start exploring NetworkX we simply need to start a python session (Like the IPython session you are in now!), and type"
   ]
  },
  {
   "cell_type": "code",
   "execution_count": null,
   "id": "20d53912-4b3c-4a4a-aead-0bd3cbee3be7",
   "metadata": {},
   "outputs": [],
   "source": [
    "import networkx"
   ]
  },
  {
   "cell_type": "markdown",
   "id": "1b8613f6-6aaa-4d7e-842e-2191826f7edd",
   "metadata": {},
   "source": [
    "All of NetworkX's data structures and functions can then be accessed using the syntax `networkx.[Object]`, where `[Object]` is the function or data structure you need. Of course you would replace `[Object]` with the function you wanted. For example to make a graph, we'd write:"
   ]
  },
  {
   "cell_type": "code",
   "execution_count": null,
   "id": "c66d32e7-4f4a-497a-96b7-a7f1dfc76c3d",
   "metadata": {},
   "outputs": [],
   "source": [
    "G = networkx.Graph()\n",
    "print(type(G))"
   ]
  },
  {
   "cell_type": "markdown",
   "id": "9979da3c-5325-4cc4-9d04-68865b793393",
   "metadata": {},
   "source": [
    "Usually to save ourselves some keystrokes, we'll import NetworkX using a shorter variable name"
   ]
  },
  {
   "cell_type": "code",
   "execution_count": null,
   "id": "62e72349-fed4-407d-b19b-88839f6c03ce",
   "metadata": {},
   "outputs": [],
   "source": [
    "import networkx as nx"
   ]
  },
  {
   "cell_type": "markdown",
   "id": "83659b94-3001-4ebe-9f6c-6a43a10161bb",
   "metadata": {},
   "source": [
    "### Basic Graph structures\n",
    "One of the main strengths of NetworkX is its flexible graph data structures. There are four data structures\n",
    " - `Graph`: Undirected Graphs\n",
    " - `DiGraph`: Directed Graphs\n",
    " - `MultiGraph`: Undirected multigraphs, ie graphs which allow for multiple edges between nodes\n",
    " - `MultiDiGraph`: Directed Multigraphs\n",
    " \n",
    "Each of these has the same basic structure, attributes and features, with a few minor differences.\n",
    "\n",
    "#### Creating graphs\n",
    "Creating Graphs is as simple as calling the appropriate constructor."
   ]
  },
  {
   "cell_type": "code",
   "execution_count": null,
   "id": "e1c5bce7-65ac-4ea3-9691-e5c2767f53a2",
   "metadata": {},
   "outputs": [],
   "source": [
    "G = nx.Graph()\n",
    "D = nx.DiGraph()\n",
    "M = nx.MultiGraph()\n",
    "MD = nx.MultiDiGraph()"
   ]
  },
  {
   "cell_type": "markdown",
   "id": "f7ab490d-54bc-4153-ae4a-5a62f9c91025",
   "metadata": {},
   "source": [
    "You can also add attributes to a graph during creation, either by providing a dictionary, or simply using keyword arguments"
   ]
  },
  {
   "cell_type": "code",
   "execution_count": null,
   "id": "d57d6095-5a62-4642-bb02-b0d554479fc2",
   "metadata": {},
   "outputs": [],
   "source": [
    "G = nx.Graph(DateCreated='2015-01-10',name=\"Terry\")"
   ]
  },
  {
   "cell_type": "code",
   "execution_count": null,
   "id": "577ff2a0-db62-4e78-93da-9aa50d55a12a",
   "metadata": {},
   "outputs": [],
   "source": [
    "G.graph"
   ]
  },
  {
   "cell_type": "markdown",
   "id": "d9e91edc-7880-4f7f-92d4-16720622f37e",
   "metadata": {},
   "source": [
    "The graph attribute is just a dictionary and can be treated as one, so you can add and delete more information from it."
   ]
  },
  {
   "cell_type": "code",
   "execution_count": null,
   "id": "c5a70eae-1d6d-4840-833a-73c006e0edf3",
   "metadata": {},
   "outputs": [],
   "source": [
    "G.graph['Current']=False\n",
    "del G.graph['name']"
   ]
  },
  {
   "cell_type": "code",
   "execution_count": null,
   "id": "2c50c574-c14e-4949-a9fd-c5f65ba0c53d",
   "metadata": {},
   "outputs": [],
   "source": [
    "G.graph"
   ]
  },
  {
   "cell_type": "markdown",
   "id": "6b7f0588-dcea-4725-9f08-2656e1ce34a9",
   "metadata": {},
   "source": []
  }
 ],
 "metadata": {
  "kernelspec": {
   "display_name": "complex_networks",
   "language": "python",
   "name": "complex_networks"
  },
  "language_info": {
   "codemirror_mode": {
    "name": "ipython",
    "version": 3
   },
   "file_extension": ".py",
   "mimetype": "text/x-python",
   "name": "python",
   "nbconvert_exporter": "python",
   "pygments_lexer": "ipython3",
   "version": "3.8.12"
  }
 },
 "nbformat": 4,
 "nbformat_minor": 5
}
