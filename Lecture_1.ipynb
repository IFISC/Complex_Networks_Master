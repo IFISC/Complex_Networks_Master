{
 "cells": [
  {
   "cell_type": "markdown",
   "id": "f68e78c2-1cfb-4360-8be7-7b7354a896b0",
   "metadata": {
    "tags": []
   },
   "source": [
    "# 1st lecture: Setting up the working environment and meeting Python\n",
    "\n",
    "In this first lecture we will be setting a working environment for our network projects in Python.\n",
    "\n",
    "## Introduction to python\n",
    "\n",
    "From the [Wikipedia](https://en.wikipedia.org/wiki/Python_(programming_language)) page of [python](https://www.python.org/) we can read its general description:\n",
    "\n",
    ">Python is a high-level, general-purpose programming language. Its design philosophy emphasizes code readability with the use of significant indentation.\n",
    ">\n",
    ">Python is dynamically-typed and garbage-collected. It supports multiple programming paradigms, including structured (particularly procedural), object-oriented and functional programming. It is often described as a \"batteries included\" language due to its comprehensive standard library.\n",
    ">\n",
    ">Guido van Rossum began working on Python in the late 1980s as a successor to the ABC programming language and first released it in 1991 as Python 0.9.0. Python 2.0 was released in 2000 and introduced new features such as list comprehensions, cycle-detecting garbage collection, reference counting, and Unicode support. Python 3.0, released in 2008, was a major revision that is not completely backward-compatible with earlier versions. Python 2 was discontinued with version 2.7.18 in 2020.\n",
    "\n",
    "### Working with jupyter notebooks\n",
    "\n",
    "### Other options\n",
    "\n",
    "###"
   ]
  },
  {
   "cell_type": "code",
   "execution_count": null,
   "id": "34438848-2a04-4b1c-8e7c-72c2bc4c038d",
   "metadata": {},
   "outputs": [],
   "source": []
  }
 ],
 "metadata": {
  "kernelspec": {
   "display_name": "complex_networks",
   "language": "python",
   "name": "complex_networks"
  },
  "language_info": {
   "codemirror_mode": {
    "name": "ipython",
    "version": 3
   },
   "file_extension": ".py",
   "mimetype": "text/x-python",
   "name": "python",
   "nbconvert_exporter": "python",
   "pygments_lexer": "ipython3",
   "version": "3.8.12"
  }
 },
 "nbformat": 4,
 "nbformat_minor": 5
}
