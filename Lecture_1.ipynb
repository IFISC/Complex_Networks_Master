{
 "cells": [
  {
   "cell_type": "markdown",
   "id": "f68e78c2-1cfb-4360-8be7-7b7354a896b0",
   "metadata": {
    "tags": []
   },
   "source": [
    "# 1st lecture: Setting up the working environment and meeting Python\n",
    "\n",
    "In this first lecture we will be setting a working environment for our network projects in Python.\n",
    "\n",
    "## Jupyter lab and virtual environments\n",
    "\n",
    "For this course we will be using [Jupyter lab](https://jupyter.org/), which is a browser-based platform for developing python projects. Besides that we will also create a [virtual environment](https://docs.python.org/3/tutorial/venv.html), which is a collection of modules that are used for our projects and will be very useful if the modules are being updated with new versions, so that in our virtual environment the code will always work, as it will use the same versions of the modules we have used for generating the code.\n",
    "\n",
    "### Installing Jupyter lab\n",
    "\n",
    "Let's start step by step. First of all we need to install jupyter lab in our computer.\n",
    "\n",
    "#### Windows\n",
    "\n",
    "Follow [this tutorial](https://crib.utwente.nl/manual/pages/jupyterlab-install-guide/index.html).\n",
    "\n",
    "#### Linux and Mac\n",
    "\n",
    "First you need to install python and pip in your computer. Then type on a terminal:\n",
    "\n",
    "```bash \n",
    "pip install jupyter-lab\n",
    "```\n",
    "\n",
    "Finally you can launch it from the folder that you want to work in by typing on a terminal (in that folder):\n",
    "\n",
    "```bash\n",
    "jupyter lab\n",
    "```\n",
    "\n",
    "### Creating a virtual environment for this course\n",
    "\n",
    "Next step is to create a proper working environment for the code in this course. I called the environment `complex_networks`. It is created using the following commands:\n",
    "\n",
    "`...`\n",
    "\n",
    "We will need the following modules along the course:\n",
    "\n",
    "- networkx\n",
    "- numpy\n",
    "- matplotlib\n",
    "- pandas\n",
    "\n",
    "## Introduction to python\n",
    "\n",
    "From the [Wikipedia](https://en.wikipedia.org/wiki/Python_(programming_language)) page of [python](https://www.python.org/) we can read its general description:\n",
    "\n",
    ">Python is a high-level, general-purpose programming language. Its design philosophy emphasizes code readability with the use of significant indentation.\n",
    ">\n",
    ">Python is dynamically-typed and garbage-collected. It supports multiple programming paradigms, including structured (particularly procedural), object-oriented and functional programming. It is often described as a \"batteries included\" language due to its comprehensive standard library.\n",
    ">\n",
    ">Guido van Rossum began working on Python in the late 1980s as a successor to the ABC programming language and first released it in 1991 as Python 0.9.0. Python 2.0 was released in 2000 and introduced new features such as list comprehensions, cycle-detecting garbage collection, reference counting, and Unicode support. Python 3.0, released in 2008, was a major revision that is not completely backward-compatible with earlier versions. Python 2 was discontinued with version 2.7.18 in 2020.\n",
    "\n",
    "### Working with jupyter notebooks\n",
    "\n",
    "### Other options\n",
    "\n",
    "###"
   ]
  },
  {
   "cell_type": "code",
   "execution_count": null,
   "id": "34438848-2a04-4b1c-8e7c-72c2bc4c038d",
   "metadata": {},
   "outputs": [],
   "source": []
  }
 ],
 "metadata": {
  "kernelspec": {
   "display_name": "complex_networks",
   "language": "python",
   "name": "complex_networks"
  },
  "language_info": {
   "codemirror_mode": {
    "name": "ipython",
    "version": 3
   },
   "file_extension": ".py",
   "mimetype": "text/x-python",
   "name": "python",
   "nbconvert_exporter": "python",
   "pygments_lexer": "ipython3",
   "version": "3.8.12"
  }
 },
 "nbformat": 4,
 "nbformat_minor": 5
}
