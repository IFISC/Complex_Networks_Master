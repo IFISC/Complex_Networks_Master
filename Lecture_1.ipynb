{
 "cells": [
  {
   "cell_type": "markdown",
   "id": "f68e78c2-1cfb-4360-8be7-7b7354a896b0",
   "metadata": {
    "tags": []
   },
   "source": [
    "# Lecture 1: Meeting Python and NetwokX\n",
    "\n",
    "In this first lecture we will be setting a working environment for our network projects in Python.\n",
    "\n",
    "## Introduction to Python\n",
    "\n",
    "From the [Wikipedia](https://en.wikipedia.org/wiki/Python_(programming_language)) page of [python](https://www.python.org/) we can read its general description:\n",
    "\n",
    ">Python is a high-level, general-purpose programming language. Its design philosophy emphasizes code readability with the use of significant indentation.\n",
    ">\n",
    ">Python is dynamically-typed and garbage-collected. It supports multiple programming paradigms, including structured (particularly procedural), object-oriented and functional programming. It is often described as a \"batteries included\" language due to its comprehensive standard library.\n",
    ">\n",
    ">Guido van Rossum began working on Python in the late 1980s as a successor to the ABC programming language and first released it in 1991 as Python 0.9.0. Python 2.0 was released in 2000 and introduced new features such as list comprehensions, cycle-detecting garbage collection, reference counting, and Unicode support. Python 3.0, released in 2008, was a major revision that is not completely backward-compatible with earlier versions. Python 2 was discontinued with version 2.7.18 in 2020.\n",
    "\n",
    "### Working with jupyter notebooks\n",
    "\n",
    "We are going to use something called [Jupyter Notebook](http://jupyter.org/). This notebook will serve as a quick introduction to Python and Jupyter notebook.\n",
    "\n",
    "For example, to print out the words `Hello, World`, all we have to do is enter the following code, and execute it. To execute code click in the box below (called a cell) and hold the Shift key and press Enter.\n"
   ]
  },
  {
   "cell_type": "code",
   "execution_count": 1,
   "id": "34438848-2a04-4b1c-8e7c-72c2bc4c038d",
   "metadata": {
    "tags": []
   },
   "outputs": [
    {
     "name": "stdout",
     "output_type": "stream",
     "text": [
      "Hello, World\n"
     ]
    }
   ],
   "source": [
    "print(\"Hello, World\")"
   ]
  },
  {
   "cell_type": "markdown",
   "id": "b2a134eb-40d3-41b6-b0b7-306a03066872",
   "metadata": {},
   "source": [
    "Now let's try to print something else. Instead of having python print `Hello, World`, have it print your name! Click in the box and type the code to do that."
   ]
  },
  {
   "cell_type": "code",
   "execution_count": null,
   "id": "dc18db1a-15b5-449f-8eff-bac015a2ca1d",
   "metadata": {},
   "outputs": [],
   "source": [
    "print('class is boring')"
   ]
  },
  {
   "cell_type": "markdown",
   "id": "94ebcad2-c6c3-4d65-9215-55d6ec8a87d0",
   "metadata": {},
   "source": [
    "The notebook contains *cells* which you can enter code into. To make a new cell below this one, click on this text, then hit the ESC key, then hit the 'b' button on your keyboard."
   ]
  },
  {
   "cell_type": "markdown",
   "id": "01f48b2d-0349-45bf-aa2d-382e7c43e51e",
   "metadata": {},
   "source": [
    "Anytime you want to insert a new cell, you can click somewhere, hit the escape key, then hit 'b' to insert a new cell below, or 'a' to put a new cell above. You can double click this text to edit it. Execute all the code cells that are already in the notebook as you go! "
   ]
  },
  {
   "cell_type": "markdown",
   "id": "6c3672eb-7cc1-4856-befd-d7e1a6fcc3fb",
   "metadata": {},
   "source": [
    "Cells can contain test, like this one, or code. Text is formatted using the markdown language, for which you can find a guide [here](https://www.markdownguide.org/). You can even use $\\LaTeX$ inside markdown, so that you can visualize equations easily like this one $$\\frac{1}{x_i}\\frac{dx_i}{dt}=\\alpha_i + \\sum_{j=1}^N\\beta_{ij}x_j.$$"
   ]
  },
  {
   "cell_type": "markdown",
   "id": "36dd1479-f2b3-498c-bad1-461ea95e21f9",
   "metadata": {},
   "source": [
    "One of the problems with jupyter notebooks is that the output of a code cell might depend on the outputs of other cells and thus in the order in which the cells are executed. It is a very useful way of playing with code and prototyping, but I strongly recommend that you create a script once you have the code working as tou want."
   ]
  },
  {
   "cell_type": "markdown",
   "id": "db13e79e-7fc8-417b-bf84-4b0f4fc7bae4",
   "metadata": {},
   "source": [
    "### Python basics\n",
    "#### Lists and dictionaries\n",
    "Python is a very easy language to learn. If you want to store some information in a variable, you use the equals sign (=). Execute the cell below (click in it, hold shift, and press enter)."
   ]
  },
  {
   "cell_type": "code",
   "execution_count": null,
   "id": "183895f6-2bfa-450e-bebe-fed889834feb",
   "metadata": {},
   "outputs": [],
   "source": [
    "x = 5"
   ]
  },
  {
   "cell_type": "markdown",
   "id": "04a0b211-a41c-4eb7-8f28-766fa617897b",
   "metadata": {},
   "source": [
    "Now, whenever python sees 'x' it will know that you mean 5"
   ]
  },
  {
   "cell_type": "code",
   "execution_count": null,
   "id": "a9206bb9-8ab2-46b3-a8aa-9ce04a55a90d",
   "metadata": {},
   "outputs": [],
   "source": [
    "print(x)"
   ]
  },
  {
   "cell_type": "markdown",
   "id": "ac9847f8-4de6-4d2a-beef-b2b1daa03453",
   "metadata": {},
   "source": [
    "Jupyter Notebook is special in that you don't actually have to type 'print' every time. If you just end a cell with a variable, it will tell you the value of that variable."
   ]
  },
  {
   "cell_type": "code",
   "execution_count": null,
   "id": "7198d7f7-b08d-4d7e-a72a-0ddbd1284095",
   "metadata": {},
   "outputs": [],
   "source": [
    "x"
   ]
  },
  {
   "cell_type": "markdown",
   "id": "ad57d337-0580-4f87-a7ea-9512f16db639",
   "metadata": {},
   "source": [
    "Python has many standard features you'd find in a regular programming language. You can add things together"
   ]
  },
  {
   "cell_type": "code",
   "execution_count": null,
   "id": "ac109b14-20b5-4424-861f-48fc7254f09a",
   "metadata": {},
   "outputs": [],
   "source": [
    "(x+12)/2."
   ]
  },
  {
   "cell_type": "markdown",
   "id": "3be2ac21-43af-4867-bf91-c02ddd9c2cb2",
   "metadata": {},
   "source": [
    "You can multiply, subtract and divide as well! Try each below!"
   ]
  },
  {
   "cell_type": "code",
   "execution_count": null,
   "id": "ab4608f9-a255-46e9-8adf-6b427a90fcb5",
   "metadata": {},
   "outputs": [],
   "source": []
  },
  {
   "cell_type": "markdown",
   "id": "1210980c-b95e-4afb-bc66-53eb0cbee070",
   "metadata": {},
   "source": [
    "You declare strings with double quotes (\"\") or single quotes ('')"
   ]
  },
  {
   "cell_type": "code",
   "execution_count": null,
   "id": "fdd1e928-c4d5-45a3-b955-f70192ebb65e",
   "metadata": {},
   "outputs": [],
   "source": [
    "s = \"Parrot\"\n",
    "print(s)"
   ]
  },
  {
   "cell_type": "markdown",
   "id": "cf824c5b-0442-406d-aaac-d7bb60986ed9",
   "metadata": {},
   "source": [
    "Python has builtin support for lists. You can make lists with square brackets ([]). Lists can contain any type of elements in them."
   ]
  },
  {
   "cell_type": "code",
   "execution_count": null,
   "id": "a5595031-266a-4a59-b1bf-aa5c17d92ad3",
   "metadata": {},
   "outputs": [],
   "source": [
    "L = [\"Cheese\",\"Parrot\",\"Spam\",\"Sir Robin\",\"Ni!\",23]\n",
    "print(L)"
   ]
  },
  {
   "cell_type": "markdown",
   "id": "c50af823-99c1-42c8-a77a-11c1892c2d29",
   "metadata": {},
   "source": [
    "You can access elements in a list using square brackets. Inside the square brackets you can put the number of the element you want to access (starting with 0). And the size of the list is accessed through the function `len()`"
   ]
  },
  {
   "cell_type": "code",
   "execution_count": null,
   "id": "6967d918-71df-4a86-a34a-f733e4daf5ec",
   "metadata": {},
   "outputs": [],
   "source": [
    "print(L[2],len(L))"
   ]
  },
  {
   "cell_type": "markdown",
   "id": "5cce0bd2-ffb9-4f37-91ef-3de4538d0a97",
   "metadata": {},
   "source": [
    "You can also access the end of the list by using negative indices, so to access the last item you can look for the item of index -1"
   ]
  },
  {
   "cell_type": "code",
   "execution_count": null,
   "id": "18a25f5a-8d20-4f42-8e63-8affb9b7f4e3",
   "metadata": {},
   "outputs": [],
   "source": [
    "L[-1]"
   ]
  },
  {
   "cell_type": "markdown",
   "id": "cb34395e-d5ea-45a6-8199-27f10c9ae2bc",
   "metadata": {},
   "source": [
    "Lists (and other structures like arrays, that we will see later) have support for *slicing*, which means you can take a slice of the list by telling the first element you want and the element before it will stop"
   ]
  },
  {
   "cell_type": "code",
   "execution_count": null,
   "id": "01e3ef40-0c93-4e69-acec-58a4ae91422d",
   "metadata": {},
   "outputs": [],
   "source": [
    "L[1:-2]"
   ]
  },
  {
   "cell_type": "markdown",
   "id": "cc7d518a-b9f7-4af3-9eee-99dd0d87d455",
   "metadata": {},
   "source": [
    "These methods for accessing elements on a list apply also to the characters in a string."
   ]
  },
  {
   "cell_type": "markdown",
   "id": "9ae5d2a3-351f-47ba-9bf4-deedc8e0a72e",
   "metadata": {},
   "source": [
    "To add elements to a list you can use the method `append`."
   ]
  },
  {
   "cell_type": "code",
   "execution_count": null,
   "id": "ef968218-431c-4c6c-952b-84dd7d6a7019",
   "metadata": {},
   "outputs": [],
   "source": [
    "L.append('complex networks')\n",
    "print(L)"
   ]
  },
  {
   "cell_type": "markdown",
   "id": "7cb871be-64be-4099-a99e-47c27d36cf3b",
   "metadata": {},
   "source": [
    "You can also create an empty list "
   ]
  },
  {
   "cell_type": "code",
   "execution_count": null,
   "id": "348fd0a6-d952-4947-a142-311735cd7af6",
   "metadata": {},
   "outputs": [],
   "source": [
    "my_list = list()\n",
    "print(len(my_list))"
   ]
  },
  {
   "cell_type": "code",
   "execution_count": null,
   "id": "9b4e0dda-9c5e-4f17-9742-6605385d49d9",
   "metadata": {},
   "outputs": [],
   "source": [
    "L[0][1:-1]"
   ]
  },
  {
   "cell_type": "markdown",
   "id": "a3b2955b-806e-42d5-85c5-9efa7323ff77",
   "metadata": {},
   "source": [
    "Last python has a data structure called a dictionary. This is their implementation of a hash table. It is similar to a list except that it is indexed by other objects (keys). They are efficient and NetworkX makes extensive use of them. This are made using curly braces({}) and colons(:). They associate a name with an item. They can be useful for storing properties about an object. You can add things to dictionaries after you create them."
   ]
  },
  {
   "cell_type": "code",
   "execution_count": null,
   "id": "fd6df940-7a8e-429f-afbd-f32570a6460f",
   "metadata": {},
   "outputs": [],
   "source": [
    "d = {\"Name\":\"Arthur\",\n",
    "     \"Occupation\":\"King of the Britons\",\n",
    "     \"Squire\":\"Patsy\",\n",
    "     \"Number of Subjects\":1250238}\n",
    "print(d[\"Name\"])\n",
    "d[\"Sword\"] = \"Excalibur\"\n",
    "print(list(d.keys()))\n",
    "print(d.values())\n",
    "print(type(d.keys()))\n",
    "for key in sorted(d.keys()):\n",
    "    print(key,d[key])\n",
    "print('Done')"
   ]
  },
  {
   "cell_type": "markdown",
   "id": "b41349d6-d5a4-4c40-8d83-7cafab3f5886",
   "metadata": {},
   "source": [
    "#### If statements\n",
    "If statements allow your code to make decisions, for example:"
   ]
  },
  {
   "cell_type": "code",
   "execution_count": null,
   "id": "d8872d0b-17ef-4b03-be53-ab743ff6185f",
   "metadata": {},
   "outputs": [],
   "source": [
    "x = 1\n",
    "if x > 10: # Remember the '>' symbol means greater than\n",
    "    print(\"SOOO BIG!\")\n",
    "elif x < 5:\n",
    "    print(\"Not so big\")\n",
    "else:\n",
    "    print('x between 5 and 10',x)"
   ]
  },
  {
   "cell_type": "markdown",
   "id": "9e8b1f00-08b9-4c7a-a46f-3ce9d00b3b44",
   "metadata": {},
   "source": [
    "Note that what is inside of an if statement (same will be true for loops) is defined by the indentation of the code, so that the block of code is finished by unindenting."
   ]
  },
  {
   "cell_type": "markdown",
   "id": "671fe8f7-e53f-415c-87be-cf64eb61ad16",
   "metadata": {},
   "source": [
    "Copy the code above, into the cell below. Change it so it prints \"SOOO BIG!\". Change it in another way so it does something different"
   ]
  },
  {
   "cell_type": "code",
   "execution_count": null,
   "id": "6bfc93a0-10d3-420d-b489-d3384d200b02",
   "metadata": {},
   "outputs": [],
   "source": []
  },
  {
   "cell_type": "markdown",
   "id": "11385af5-03dd-4e60-995d-932e18e7bc52",
   "metadata": {},
   "source": [
    "#### Loops\n",
    "Sometimes we want to do things repeatedly. The best way to do that is with loops."
   ]
  },
  {
   "cell_type": "code",
   "execution_count": null,
   "id": "3b1f52ad-a80e-47e5-8b38-6a2a11c2fdff",
   "metadata": {},
   "outputs": [],
   "source": [
    "for name in [\"Bob\",\"Bill\",\"Helga\",\"Joe\",\"Mike\",\"Brenda\"]:\n",
    "    print(\"Hello, \"+name+ \"!\")"
   ]
  },
  {
   "cell_type": "markdown",
   "id": "02ef0be5-1f03-4003-b6e4-2d5dd64eb6f9",
   "metadata": {},
   "source": [
    "Copy the code above. Add a variable i=0 before the loop. Inside the loop make it so 1 is added to i each time through, and print i."
   ]
  },
  {
   "cell_type": "code",
   "execution_count": null,
   "id": "4211c11e-07ab-4fff-a0b1-2a9ba16ec116",
   "metadata": {},
   "outputs": [],
   "source": []
  },
  {
   "cell_type": "markdown",
   "id": "c7965bbf-e345-4e28-9caf-407d76ddc429",
   "metadata": {},
   "source": [
    "You can also make a variable go from a to b-1 by writing"
   ]
  },
  {
   "cell_type": "code",
   "execution_count": null,
   "id": "1d7a292a-86b7-4b79-937b-4a6527cecc7b",
   "metadata": {},
   "outputs": [],
   "source": [
    "a = 2\n",
    "b = 6\n",
    "for i in range(a,b):\n",
    "    print(i)"
   ]
  },
  {
   "cell_type": "markdown",
   "id": "8fddff63-8307-4002-8a23-bb9bd8c0e167",
   "metadata": {},
   "source": [
    "You can also make a loop with a while statement that will keep running while the condition is fulfilled (this is usually better that a for loop with a nested if statement to choose if we want to break the loop)"
   ]
  },
  {
   "cell_type": "code",
   "execution_count": null,
   "id": "5b18df92-77fc-4a7c-9fe4-9299d477ba76",
   "metadata": {},
   "outputs": [],
   "source": [
    "i = 0\n",
    "while i < 10:\n",
    "    print(i,'Still less than ten')\n",
    "    i += 1\n",
    "print('Done')"
   ]
  },
  {
   "cell_type": "markdown",
   "id": "caa987c6-962c-41cb-af5a-61cb093741e2",
   "metadata": {},
   "source": [
    "#### Reading and writing with files\n",
    "Many of the modules you will use have specialised functions prepared to read from files and to write into files. Nevertheless it is good that you know a simple and general method to read and write to and from a file.\n",
    "\n",
    "You can open a file with the function `open(path,options)` and specify if you want to read it or to open it to write into it. Let's try and read from a file"
   ]
  },
  {
   "cell_type": "code",
   "execution_count": null,
   "id": "9ade9583-59e3-4e83-a198-ff24cc162636",
   "metadata": {},
   "outputs": [],
   "source": [
    "fin = open('./data/test_data.txt','r')\n",
    "for line in fin:\n",
    "    print(line)\n",
    "fin.close()"
   ]
  },
  {
   "cell_type": "markdown",
   "id": "214e1fc4-04d8-4eda-9ff1-0b95996991a5",
   "metadata": {},
   "source": [
    "Now let's read that file and write each line to another file if the line contains only one *word*."
   ]
  },
  {
   "cell_type": "code",
   "execution_count": null,
   "id": "fb48c05a-c9f3-420e-a846-1b91e09481c0",
   "metadata": {},
   "outputs": [],
   "source": [
    "fin = open('./data/test_data.txt','r')\n",
    "fout = open('./results/modified_data.txt','w')\n",
    "for line in fin:\n",
    "    print(line)\n",
    "    line = line.split()\n",
    "    if len(line) == 1:\n",
    "        print(int(line[0]))\n",
    "        fout.write(line[0]+'\\n')\n",
    "fin.close()\n",
    "fout.close()"
   ]
  },
  {
   "cell_type": "markdown",
   "id": "697df505-0657-43b4-a690-bb029a61bb8e",
   "metadata": {},
   "source": [
    "#### Better math support: Numpy\n",
    "\n",
    "Numpy is a python module that is specialised in scientific computing. The basic data structure is an array. We can create it from a list (this example will be like a vector)."
   ]
  },
  {
   "cell_type": "code",
   "execution_count": null,
   "id": "5d979b1e-68d1-4a12-804d-d47966ead076",
   "metadata": {},
   "outputs": [],
   "source": [
    "import numpy as np\n",
    "a = np.array([1,2,3])"
   ]
  },
  {
   "cell_type": "markdown",
   "id": "2f4326ff-2be0-4dc3-a814-27fc27d721a9",
   "metadata": {},
   "source": [
    "Or you can create it filled with ones or zeroes with different functions and the dimensions that you want"
   ]
  },
  {
   "cell_type": "code",
   "execution_count": null,
   "id": "485f15c9-7418-43f0-b4ff-e76fbc4fe718",
   "metadata": {},
   "outputs": [],
   "source": [
    "b = np.zeros(3)\n",
    "c = np.ones((3,2))\n",
    "print(b)\n",
    "print(c)"
   ]
  },
  {
   "cell_type": "markdown",
   "id": "b3133823-ccf7-43e1-a113-78010b595ff3",
   "metadata": {},
   "source": [
    "Numpy contains lots of functionalities, among them are, for example, all of the basic functions"
   ]
  },
  {
   "cell_type": "code",
   "execution_count": null,
   "id": "944596c5-901e-49ca-bf19-8da86335e553",
   "metadata": {},
   "outputs": [],
   "source": [
    "print(np.sin(0.5*np.pi))"
   ]
  },
  {
   "cell_type": "markdown",
   "id": "22024a40-4d1e-4a7a-8510-cfc8133a9f41",
   "metadata": {},
   "source": [
    "And one of the advantages is that you can apply a function to an array and the function will be applied element by element without the need to specify any kind of loop."
   ]
  },
  {
   "cell_type": "code",
   "execution_count": null,
   "id": "ef87e9bc-66be-48fc-bc76-005c924b22bd",
   "metadata": {},
   "outputs": [],
   "source": [
    "print(np.exp(c))"
   ]
  },
  {
   "cell_type": "markdown",
   "id": "5030fa86-4f90-4eda-8b6f-edc84a125fc2",
   "metadata": {},
   "source": [
    "One source of problems can come when copying arrays into other arrays. Consider we have array `a` and want to copy it into array `b` to have the structure of a fixed in b and then we modify `a`. If we don't copy correctly we will only create a view of the data in `a` through `b`. Let's see an example."
   ]
  },
  {
   "cell_type": "code",
   "execution_count": null,
   "id": "73c19e02-f2f8-427a-8850-cdb58f7c1d7f",
   "metadata": {},
   "outputs": [],
   "source": [
    "a = np.zeros((2,3))\n",
    "b = a\n",
    "b_good = a.copy()\n",
    "a[1,1] = 100\n",
    "print(b)\n",
    "print(b_good)"
   ]
  },
  {
   "cell_type": "markdown",
   "id": "901a5ee3-9603-4b52-9734-33bc0bb4d749",
   "metadata": {},
   "source": [
    "For more on numpy check [their website](https://numpy.org/doc/stable/#)."
   ]
  },
  {
   "cell_type": "markdown",
   "id": "16025cc2-30e0-4803-9ed2-78b6f46e8cb0",
   "metadata": {
    "tags": []
   },
   "source": [
    "#### Encapsulating code: functions\n",
    "Sometimes we want to encapsulate a certain piece of code that we use many times into what is called a function. Functions are created using the word `def` followed by the name of the function and its variables between parenthesis. "
   ]
  },
  {
   "cell_type": "code",
   "execution_count": null,
   "id": "fa5e283d-673c-41c3-8ca2-f0e8334f0dd3",
   "metadata": {},
   "outputs": [],
   "source": [
    "def salute(name,age=25):\n",
    "    '''\n",
    "    This function says hello and says the name and age of the person. The default of the age is 25. \n",
    "    Also it returns a dictionary with the name as key and the age as value\n",
    "    '''\n",
    "    print('Hello '+name+'. You are '+str(age)+' years old.')\n",
    "    age_dict = {name:age}\n",
    "    return age_dict"
   ]
  },
  {
   "cell_type": "markdown",
   "id": "8d500b0c-dd53-4882-afd1-08810a07db5e",
   "metadata": {},
   "source": [
    "Let's see the function working"
   ]
  },
  {
   "cell_type": "code",
   "execution_count": null,
   "id": "f80984a0-d392-4ea3-9985-905b7d776ddf",
   "metadata": {},
   "outputs": [],
   "source": [
    "age_juan = salute('Juan',38)"
   ]
  },
  {
   "cell_type": "markdown",
   "id": "88cfd31e-d783-4c84-91ef-619517dd2df4",
   "metadata": {},
   "source": [
    "Now I can access the dictionary, because I saved it when calling the function"
   ]
  },
  {
   "cell_type": "code",
   "execution_count": null,
   "id": "e6f8c870-3958-4e64-8c17-f56def181de7",
   "metadata": {},
   "outputs": [],
   "source": [
    "print(age_juan)"
   ]
  },
  {
   "cell_type": "code",
   "execution_count": null,
   "id": "c56a21f1-e6fb-434a-9a55-a1497fbe57de",
   "metadata": {},
   "outputs": [],
   "source": [
    "salute?"
   ]
  },
  {
   "cell_type": "markdown",
   "id": "225d8d4f-2133-4d49-89da-739d19eb9474",
   "metadata": {},
   "source": [
    "#### Basic plotting\n",
    "In order to plot results we will use the module `matplotlib.pyplot`. You can check how to use it in their [tutorial page](https://matplotlib.org/stable/tutorials/introductory/pyplot.html). But let's see some of its functionality. First, we need to load the module"
   ]
  },
  {
   "cell_type": "code",
   "execution_count": null,
   "id": "b657a759-9078-4f45-8d43-65708c418eb4",
   "metadata": {},
   "outputs": [],
   "source": [
    "import matplotlib.pyplot as plt"
   ]
  },
  {
   "cell_type": "markdown",
   "id": "00eaf56b-1aea-4f90-836f-957206eb066e",
   "metadata": {},
   "source": [
    "In order to see the plots in our jupyter notebooks we have to add the following line"
   ]
  },
  {
   "cell_type": "code",
   "execution_count": null,
   "id": "5445529a-bc70-4f40-aee6-0ad60fddc370",
   "metadata": {},
   "outputs": [],
   "source": [
    "%matplotlib inline"
   ]
  },
  {
   "cell_type": "markdown",
   "id": "49c5894b-40ff-43ee-ad3e-d80b152a5105",
   "metadata": {},
   "source": [
    "Now let's do a plot. (try changing the parameters or adding new ones to see how the plot varies)."
   ]
  },
  {
   "cell_type": "code",
   "execution_count": null,
   "id": "5775fb36-7907-4cef-8d86-aac913d17e1d",
   "metadata": {},
   "outputs": [],
   "source": [
    "x = np.arange(1,10)\n",
    "y = np.power(x,2)\n",
    "plt.plot(x,y,label='line plot')\n",
    "plt.scatter(x,y,color='k',marker='*',label='scatter plot')\n",
    "plt.xlabel('time in class', fontsize = 25)\n",
    "plt.ylabel('sleepyness', fontsize = 25)\n",
    "plt.yscale('log')\n",
    "plt.xscale('log')\n",
    "plt.legend(fontsize=20)\n",
    "plt.savefig('./results/figure.png',bbox_inches='tight')"
   ]
  },
  {
   "cell_type": "markdown",
   "id": "17d52dc4-fa3f-4051-9fdb-c855a119d5b3",
   "metadata": {},
   "source": [
    "The last line saved the plot into a file (try using other extensions for the name of the saved file, like `pdf`, `eps` or `jpeg`)."
   ]
  },
  {
   "cell_type": "markdown",
   "id": "45b91ec3-d0d0-47a1-9285-01b7af9d279e",
   "metadata": {},
   "source": [
    "#### Accessing available functions, documentation and code\n",
    "Jupyter notebook has some special features that can be particularly helpful. For example it has built in completion. Let's import a module and check it out."
   ]
  },
  {
   "cell_type": "code",
   "execution_count": null,
   "id": "f149f2f4-97cb-4c10-9b00-3445e6d22f7b",
   "metadata": {},
   "outputs": [],
   "source": [
    "import numpy as np"
   ]
  },
  {
   "cell_type": "markdown",
   "id": "c49d7f86-12f3-4b45-a289-9a36aa963cbf",
   "metadata": {},
   "source": [
    "Now you can view all the functions in numpy by typing `np.[TAB]`, that is type `np.` and then hit the tab key"
   ]
  },
  {
   "cell_type": "code",
   "execution_count": null,
   "id": "1e9abe2a-3e4c-4c3d-812f-1cf6dded24c4",
   "metadata": {},
   "outputs": [],
   "source": [
    "np."
   ]
  },
  {
   "cell_type": "markdown",
   "id": "3cd05313-df93-421d-9088-85250ebda9a5",
   "metadata": {},
   "source": [
    "If you are looking for a particular function you can just start typing the name. Let's say we are looking for the shortest path functions in NetworkX. We would import NetworkX"
   ]
  },
  {
   "cell_type": "code",
   "execution_count": null,
   "id": "43297d62-db2a-4635-ae97-029cf9914da7",
   "metadata": {},
   "outputs": [],
   "source": [
    "import networkx as nx"
   ]
  },
  {
   "cell_type": "markdown",
   "id": "102a96a8-5bbf-41a6-9835-a6cdd501e7c3",
   "metadata": {},
   "source": [
    "Then we can type `nx.sho[TAB]` and it will list all the functions that start with `sho` in the networkx module"
   ]
  },
  {
   "cell_type": "code",
   "execution_count": null,
   "id": "5784b902-c0a1-4505-bc77-db5bfe085780",
   "metadata": {},
   "outputs": [],
   "source": [
    "nx.shortest_path?"
   ]
  },
  {
   "cell_type": "markdown",
   "id": "d47d6903-321f-4152-a68e-0917fc9a614d",
   "metadata": {},
   "source": [
    "One of the best features of Jupyter notebook is the ability to read documentation. You can do this by adding a `?` to modules, classes, or functions."
   ]
  },
  {
   "cell_type": "code",
   "execution_count": null,
   "id": "5ffe6df7-105e-42db-8806-fba69eba0b9d",
   "metadata": {},
   "outputs": [],
   "source": [
    "nx.betweenness_centrality?"
   ]
  },
  {
   "cell_type": "markdown",
   "id": "37c9a0fa-22b4-4e70-b011-dab2ad8605a7",
   "metadata": {},
   "source": [
    "Let's take a look at the documentation of the function we created a while ago"
   ]
  },
  {
   "cell_type": "code",
   "execution_count": null,
   "id": "931c1819-0a7f-4581-a9f2-9d87251297a5",
   "metadata": {},
   "outputs": [],
   "source": [
    "salute??"
   ]
  },
  {
   "cell_type": "markdown",
   "id": "01422bd6-0791-4c82-9fa0-151f1fe722a4",
   "metadata": {},
   "source": [
    "So, by putting a description after the definition of a function enclosed by triple single quotes we are creating the documantation directly!"
   ]
  },
  {
   "cell_type": "markdown",
   "id": "43c0ddec-49ca-41de-9218-adf9bd9a4d24",
   "metadata": {},
   "source": [
    "If you want to view the code for the function you can use `??`"
   ]
  },
  {
   "cell_type": "code",
   "execution_count": null,
   "id": "27e3eef6-fb84-4f4d-8ecb-a8fa133a87e5",
   "metadata": {},
   "outputs": [],
   "source": [
    "nx.gnp_random_graph??"
   ]
  },
  {
   "cell_type": "markdown",
   "id": "3e99db6d-d55c-41c9-8670-eeabe4b585df",
   "metadata": {},
   "source": [
    "If you'd like to learn more about notebooks check out the notebook docs [here](http://jupyter-notebook-beginner-guide.readthedocs.org/en/latest/). But this should be enough to get us started with NetworkX. There is lots more to learn, but we need to get onto our network analysis. If you are interested in learning more python I recommend that ytou take a look at [these resources](https://wiki.python.org/moin/BeginnersGuide)"
   ]
  }
 ],
 "metadata": {
  "kernelspec": {
   "display_name": "complex_networks",
   "language": "python",
   "name": "complex_networks"
  },
  "language_info": {
   "codemirror_mode": {
    "name": "ipython",
    "version": 3
   },
   "file_extension": ".py",
   "mimetype": "text/x-python",
   "name": "python",
   "nbconvert_exporter": "python",
   "pygments_lexer": "ipython3",
   "version": "3.11.5"
  }
 },
 "nbformat": 4,
 "nbformat_minor": 5
}
