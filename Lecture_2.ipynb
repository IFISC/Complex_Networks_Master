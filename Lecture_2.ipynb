{
 "cells": [
  {
   "cell_type": "markdown",
   "metadata": {},
   "source": [
    "# Lecture 2: The NetworkX Module"
   ]
  },
  {
   "cell_type": "markdown",
   "metadata": {},
   "source": [
    "NetworkX is a widely-used Python library for the creation, manipulation, and study of the structure, dynamics, and functions of complex networks. However, there are several alternatives to NetworkX, each with its own set of features and use cases. Here are some of them, along with their pros and cons in comparison to NetworkX:\n",
    "\n",
    "1. **igraph**\n",
    "   - **Pros**:\n",
    "     - Faster than NetworkX for most operations.\n",
    "     - Good for complex network analysis and generation.\n",
    "     - Supports community detection, motifs, and other advanced algorithms.\n",
    "     - Available in C/C++, Python, and R, providing a consistent experience across languages.\n",
    "   - **Cons**:\n",
    "     - API is less Pythonic than NetworkX, which might not be preferred by those who are used to Python's conventions.\n",
    "     - Smaller community and less extensive documentation compared to NetworkX.\n",
    "\n",
    "2. **Graph-tool**\n",
    "   - **Pros**:\n",
    "     - Optimized for performance, uses C++ with Python bindings.\n",
    "     - Highly efficient for large networks.\n",
    "     - Provides advanced algorithms and statistical analysis tools.\n",
    "   - **Cons**:\n",
    "     - Installation can be more complex due to C++ dependencies.\n",
    "     - Less intuitive API for users familiar with NetworkX.\n",
    "     - May be overkill for simple network tasks.\n",
    "\n",
    "3. **SNAP.py (Stanford Network Analysis Platform)**\n",
    "   - **Pros**:\n",
    "     - Designed for large networks and high performance.\n",
    "     - Provides methods for large scale graph analysis.\n",
    "     - Integrates with the SNAP C++ library.\n",
    "   - **Cons**:\n",
    "     - Python API is not as rich as NetworkX.\n",
    "     - Learning curve for those not familiar with SNAP's approach.\n",
    "\n",
    "4. **graphistry**\n",
    "   - **Pros**:\n",
    "     - Focuses on visual analytics and GPU acceleration.\n",
    "     - Good for interactive visualization of large networks.\n",
    "   - **Cons**:\n",
    "     - More of a visualization tool than a comprehensive network analysis library.\n",
    "     - May require additional infrastructure for GPU capabilities.\n",
    "\n",
    "5. **NetworKit**\n",
    "   - **Pros**:\n",
    "     - Designed for high-performance analysis of large networks.\n",
    "     - Parallelized algorithms for speed.\n",
    "   - **Cons**:\n",
    "     - Python API is a thin layer on top of C++ code, which might be less user-friendly.\n",
    "     - Less comprehensive in functionality than NetworkX.\n",
    "\n",
    "Each of these libraries has its niche where it outperforms NetworkX, especially in terms of performance on large datasets. However, NetworkX remains one of the most user-friendly and extensively documented libraries for network analysis, which makes it a go-to choice for many users, especially those new to network analysis or those working with small to medium-sized networks. It's important to choose the tool that best fits the scale and complexity of the problem you're trying to solve."
   ]
  },
  {
   "cell_type": "markdown",
   "metadata": {},
   "source": [
    "NetworkX is a python module. To start exploring NetworkX we simply need to start a python session (Like the IPython session you are in now!), and type"
   ]
  },
  {
   "cell_type": "code",
   "execution_count": 2,
   "metadata": {
    "tags": []
   },
   "outputs": [],
   "source": [
    "import networkx"
   ]
  },
  {
   "cell_type": "markdown",
   "metadata": {},
   "source": [
    "All of NetworkX's data structures and functions can then be accessed using the syntax `networkx.[Object]`, where `[Object]` is the function or data structure you need. Of course you would replace `[Object]` with the function you wanted. For example to make a graph, we'd write:"
   ]
  },
  {
   "cell_type": "code",
   "execution_count": 3,
   "metadata": {
    "tags": []
   },
   "outputs": [
    {
     "name": "stdout",
     "output_type": "stream",
     "text": [
      "<class 'networkx.classes.graph.Graph'>\n"
     ]
    }
   ],
   "source": [
    "G = networkx.Graph()\n",
    "print(type(G))"
   ]
  },
  {
   "cell_type": "markdown",
   "metadata": {},
   "source": [
    "Usually to save ourselves some keystrokes, we'll import NetworkX using a shorter variable name"
   ]
  },
  {
   "cell_type": "code",
   "execution_count": 4,
   "metadata": {
    "tags": []
   },
   "outputs": [],
   "source": [
    "import networkx as nx"
   ]
  },
  {
   "cell_type": "markdown",
   "metadata": {},
   "source": [
    "# Basic Graph Data Structures"
   ]
  },
  {
   "cell_type": "markdown",
   "metadata": {},
   "source": [
    "One of the main strengths of NetworkX is its flexible graph data structures. There are four data structures\n",
    " - `Graph`: Undirected Graphs\n",
    " - `DiGraph`: Directed Graphs\n",
    " - `MultiGraph`: Undirected multigraphs, ie graphs which allow for multiple edges between nodes\n",
    " - `MultiDiGraph`: Directed Multigraphs\n",
    " \n",
    "Each of these has the same basic structure, attributes and features, with a few minor differences."
   ]
  },
  {
   "cell_type": "markdown",
   "metadata": {},
   "source": [
    "# Creating Graphs"
   ]
  },
  {
   "cell_type": "markdown",
   "metadata": {},
   "source": [
    "Creating Graphs is as simple as calling the appropriate constructor."
   ]
  },
  {
   "cell_type": "code",
   "execution_count": 5,
   "metadata": {
    "tags": []
   },
   "outputs": [],
   "source": [
    "G = nx.Graph()\n",
    "D = nx.DiGraph()\n",
    "M = nx.MultiGraph()\n",
    "MD = nx.MultiDiGraph()"
   ]
  },
  {
   "cell_type": "markdown",
   "metadata": {},
   "source": [
    "You can also add attributes to a graph during creation, either by providing a dictionary, or simply using keyword arguments"
   ]
  },
  {
   "cell_type": "code",
   "execution_count": 6,
   "metadata": {
    "tags": []
   },
   "outputs": [],
   "source": [
    "G = nx.Graph(DateCreated='2015-01-10',name=\"Terry\")"
   ]
  },
  {
   "cell_type": "code",
   "execution_count": 7,
   "metadata": {
    "tags": []
   },
   "outputs": [
    {
     "data": {
      "text/plain": [
       "{'DateCreated': '2015-01-10', 'name': 'Terry'}"
      ]
     },
     "execution_count": 7,
     "metadata": {},
     "output_type": "execute_result"
    }
   ],
   "source": [
    "G.graph"
   ]
  },
  {
   "cell_type": "markdown",
   "metadata": {},
   "source": [
    "The graph attribute is just a dictionary and can be treated as one, so you can add and delete more information from it."
   ]
  },
  {
   "cell_type": "code",
   "execution_count": 8,
   "metadata": {
    "tags": []
   },
   "outputs": [],
   "source": [
    "G.graph['Current']=False\n",
    "del G.graph['name']"
   ]
  },
  {
   "cell_type": "code",
   "execution_count": 9,
   "metadata": {
    "tags": []
   },
   "outputs": [
    {
     "data": {
      "text/plain": [
       "{'DateCreated': '2015-01-10', 'Current': False}"
      ]
     },
     "execution_count": 9,
     "metadata": {},
     "output_type": "execute_result"
    }
   ],
   "source": [
    "G.graph"
   ]
  },
  {
   "cell_type": "markdown",
   "metadata": {},
   "source": [
    "## Nodes"
   ]
  },
  {
   "cell_type": "markdown",
   "metadata": {},
   "source": [
    "Next we'll cover how to add and remove nodes, as well as check for their existance in a graph and add attributes to both!"
   ]
  },
  {
   "cell_type": "markdown",
   "metadata": {},
   "source": [
    "### Adding Nodes"
   ]
  },
  {
   "cell_type": "markdown",
   "metadata": {},
   "source": [
    "There are two main functions for adding nodes. `add_node`, and `add_nodes_from`. The former takes single values, and the latter takes any iterable (list, set, iterator, generator). Nodes can be of any _immutable_ type. This means numbers (ints and floats complex), strings, bytes, tuples or frozen sets. They cannot be _mutable_, such as lists, dictionaries or sets. Nodes in the same graph do not have to be of the same type"
   ]
  },
  {
   "cell_type": "code",
   "execution_count": 11,
   "metadata": {
    "tags": []
   },
   "outputs": [],
   "source": [
    "# Adding single nodes of various types\n",
    "G.add_node(0)\n",
    "# G.add_node('A')\n",
    "# G.add_node(('x',1.2))\n",
    "# Adding collections of nodes\n",
    "G.add_nodes_from([2,4,6,8,10])\n",
    "G.add_nodes_from((333,666))\n",
    "G.add_nodes_from('abcdefg')\n",
    "G.add_nodes_from(set([10+(3*i)%5 for i in range(10,50)]))"
   ]
  },
  {
   "cell_type": "markdown",
   "metadata": {},
   "source": [
    "### Listing Nodes"
   ]
  },
  {
   "cell_type": "markdown",
   "metadata": {},
   "source": [
    "Accessing nodes is done using the `nodes` function which is a member of the `Graph` object."
   ]
  },
  {
   "cell_type": "code",
   "execution_count": 12,
   "metadata": {
    "tags": []
   },
   "outputs": [
    {
     "ename": "TypeError",
     "evalue": "'<' not supported between instances of 'str' and 'int'",
     "output_type": "error",
     "traceback": [
      "\u001b[0;31m---------------------------------------------------------------------------\u001b[0m",
      "\u001b[0;31mTypeError\u001b[0m                                 Traceback (most recent call last)",
      "Cell \u001b[0;32mIn[12], line 1\u001b[0m\n\u001b[0;32m----> 1\u001b[0m a \u001b[38;5;241m=\u001b[39m \u001b[38;5;28;43msorted\u001b[39;49m\u001b[43m(\u001b[49m\u001b[38;5;28;43mlist\u001b[39;49m\u001b[43m(\u001b[49m\u001b[43mG\u001b[49m\u001b[38;5;241;43m.\u001b[39;49m\u001b[43mnodes\u001b[49m\u001b[43m(\u001b[49m\u001b[43m)\u001b[49m\u001b[43m)\u001b[49m\u001b[43m)\u001b[49m\n\u001b[1;32m      2\u001b[0m n \u001b[38;5;241m=\u001b[39m \u001b[38;5;28mlen\u001b[39m(a)\n\u001b[1;32m      3\u001b[0m \u001b[38;5;28mprint\u001b[39m(a)\n",
      "\u001b[0;31mTypeError\u001b[0m: '<' not supported between instances of 'str' and 'int'"
     ]
    }
   ],
   "source": [
    "a = sorted(list(G.nodes()))\n",
    "n = len(a)\n",
    "print(a)\n",
    "print(n,a[n-1])\n",
    "print(a[n-1])"
   ]
  },
  {
   "cell_type": "code",
   "execution_count": 14,
   "metadata": {
    "tags": []
   },
   "outputs": [
    {
     "data": {
      "text/plain": [
       "NodeDataView({0: {}, 2: {}, 4: {}, 6: {}, 8: {}, 10: {}, 333: {}, 666: {}, 'a': {}, 'b': {}, 'c': {}, 'd': {}, 'e': {}, 'f': {}, 'g': {}, 11: {}, 12: {}, 13: {}, 14: {}})"
      ]
     },
     "execution_count": 14,
     "metadata": {},
     "output_type": "execute_result"
    }
   ],
   "source": [
    "G.nodes(data=True)"
   ]
  },
  {
   "cell_type": "code",
   "execution_count": 16,
   "metadata": {
    "tags": []
   },
   "outputs": [
    {
     "name": "stdout",
     "output_type": "stream",
     "text": [
      "19\n",
      "19\n",
      "19\n"
     ]
    }
   ],
   "source": [
    "print(G.order())\n",
    "print(G.number_of_nodes())\n",
    "print(len(G))"
   ]
  },
  {
   "cell_type": "markdown",
   "metadata": {},
   "source": [
    "Sometimes to save memory we might only want to access a list of nodes one at a time, so we can use an _iterator_. These are especially useful in long running loops to save memory."
   ]
  },
  {
   "cell_type": "code",
   "execution_count": 17,
   "metadata": {
    "tags": []
   },
   "outputs": [
    {
     "name": "stdout",
     "output_type": "stream",
     "text": [
      "0 is not a string!\n",
      "2 is not a string!\n",
      "4 is not a string!\n",
      "6 is not a string!\n",
      "8 is not a string!\n",
      "10 is not a string!\n",
      "333 is not a string!\n",
      "666 is not a string!\n",
      "a is a string!\n",
      "b is a string!\n",
      "c is a string!\n",
      "d is a string!\n",
      "e is a string!\n",
      "f is a string!\n",
      "g is a string!\n",
      "11 is not a string!\n",
      "12 is not a string!\n",
      "13 is not a string!\n",
      "14 is not a string!\n"
     ]
    }
   ],
   "source": [
    "for n in G.nodes():\n",
    "    if type(n)== str:\n",
    "        print(n + ' is a string!')\n",
    "    else:\n",
    "        print(str(n) + \" is not a string!\")"
   ]
  },
  {
   "cell_type": "markdown",
   "metadata": {},
   "source": [
    "In the future more functions of NetworkX will exclusively use iterators to save memory and be more Python 3 like..."
   ]
  },
  {
   "cell_type": "markdown",
   "metadata": {},
   "source": [
    "### Checking whether nodes are in a Graph"
   ]
  },
  {
   "cell_type": "markdown",
   "metadata": {},
   "source": [
    "We can also check to see if a graph has a node several different ways. The easiest is just using the `in` keyword in python, but there is also the `has_node` function."
   ]
  },
  {
   "cell_type": "code",
   "execution_count": 18,
   "metadata": {
    "tags": []
   },
   "outputs": [
    {
     "data": {
      "text/plain": [
       "True"
      ]
     },
     "execution_count": 18,
     "metadata": {},
     "output_type": "execute_result"
    }
   ],
   "source": [
    "13 in G"
   ]
  },
  {
   "cell_type": "code",
   "execution_count": 19,
   "metadata": {
    "tags": []
   },
   "outputs": [
    {
     "data": {
      "text/plain": [
       "False"
      ]
     },
     "execution_count": 19,
     "metadata": {},
     "output_type": "execute_result"
    }
   ],
   "source": [
    "9 in G"
   ]
  },
  {
   "cell_type": "code",
   "execution_count": 20,
   "metadata": {
    "tags": []
   },
   "outputs": [
    {
     "data": {
      "text/plain": [
       "True"
      ]
     },
     "execution_count": 20,
     "metadata": {},
     "output_type": "execute_result"
    }
   ],
   "source": [
    "G.has_node(13)"
   ]
  },
  {
   "cell_type": "code",
   "execution_count": 21,
   "metadata": {
    "tags": []
   },
   "outputs": [
    {
     "data": {
      "text/plain": [
       "False"
      ]
     },
     "execution_count": 21,
     "metadata": {},
     "output_type": "execute_result"
    }
   ],
   "source": [
    "G.has_node(9)"
   ]
  },
  {
   "cell_type": "markdown",
   "metadata": {},
   "source": [
    "### Node attributes"
   ]
  },
  {
   "cell_type": "markdown",
   "metadata": {},
   "source": [
    "You can also add attributes to nodes. This can be handy for storing information about nodes within the graph object. This can be done when you create new nodes using keyword arguments to the `add_node` and `add_nodes_from` function"
   ]
  },
  {
   "cell_type": "code",
   "execution_count": 22,
   "metadata": {
    "tags": []
   },
   "outputs": [],
   "source": [
    "G.add_node('Spam',company='Hormel',food='meat')"
   ]
  },
  {
   "cell_type": "markdown",
   "metadata": {},
   "source": [
    "When using `add_nodes_from` you provide a tuple with the first element being the node, and the second being a dictionary of attributes for that node. You can also add attributes which will be applied to all added nodes using keyword arguments"
   ]
  },
  {
   "cell_type": "code",
   "execution_count": 23,
   "metadata": {
    "tags": []
   },
   "outputs": [],
   "source": [
    "G.add_nodes_from([('Bologna',{'company':'Oscar Meyer'}),\n",
    "                  ('Bacon',{'company':'Wright'}),\n",
    "                  ('Sausage',{'company':'Jimmy Dean'})],food='meat')"
   ]
  },
  {
   "cell_type": "markdown",
   "metadata": {},
   "source": [
    "To list node attributes you need to provide the `data=True` keyword to the `nodes` and `nodes_iter` functions"
   ]
  },
  {
   "cell_type": "code",
   "execution_count": 24,
   "metadata": {
    "tags": []
   },
   "outputs": [
    {
     "name": "stdout",
     "output_type": "stream",
     "text": [
      "[0, 2, 4, 6, 8, 10, 333, 666, 'a', 'b', 'c', 'd', 'e', 'f', 'g', 11, 12, 13, 14, 'Spam', 'Bologna', 'Bacon', 'Sausage']\n",
      "[(0, {}), (2, {}), (4, {}), (6, {}), (8, {}), (10, {}), (333, {}), (666, {}), ('a', {}), ('b', {}), ('c', {}), ('d', {}), ('e', {}), ('f', {}), ('g', {}), (11, {}), (12, {}), (13, {}), (14, {}), ('Spam', {'company': 'Hormel', 'food': 'meat'}), ('Bologna', {'food': 'meat', 'company': 'Oscar Meyer'}), ('Bacon', {'food': 'meat', 'company': 'Wright'}), ('Sausage', {'food': 'meat', 'company': 'Jimmy Dean'})]\n"
     ]
    }
   ],
   "source": [
    "print(G.nodes())\n",
    "print(G.nodes(data=True))"
   ]
  },
  {
   "cell_type": "markdown",
   "metadata": {},
   "source": [
    "Attributes are stored in a special dictionary within the graph called `node` you can access, edit and remove attributes there"
   ]
  },
  {
   "cell_type": "code",
   "execution_count": 25,
   "metadata": {
    "tags": []
   },
   "outputs": [
    {
     "data": {
      "text/plain": [
       "{'company': 'Hormel', 'food': 'meat'}"
      ]
     },
     "execution_count": 25,
     "metadata": {},
     "output_type": "execute_result"
    }
   ],
   "source": [
    "G.nodes['Spam']"
   ]
  },
  {
   "cell_type": "code",
   "execution_count": 26,
   "metadata": {
    "tags": []
   },
   "outputs": [],
   "source": [
    "G.nodes['Spam']['Delicious'] = True\n",
    "G.nodes[6]['integer'] = True"
   ]
  },
  {
   "cell_type": "code",
   "execution_count": 27,
   "metadata": {
    "tags": []
   },
   "outputs": [
    {
     "data": {
      "text/plain": [
       "NodeDataView({0: {}, 2: {}, 4: {}, 6: {'integer': True}, 8: {}, 10: {}, 333: {}, 666: {}, 'a': {}, 'b': {}, 'c': {}, 'd': {}, 'e': {}, 'f': {}, 'g': {}, 11: {}, 12: {}, 13: {}, 14: {}, 'Spam': {'company': 'Hormel', 'food': 'meat', 'Delicious': True}, 'Bologna': {'food': 'meat', 'company': 'Oscar Meyer'}, 'Bacon': {'food': 'meat', 'company': 'Wright'}, 'Sausage': {'food': 'meat', 'company': 'Jimmy Dean'}})"
      ]
     },
     "execution_count": 27,
     "metadata": {},
     "output_type": "execute_result"
    }
   ],
   "source": [
    "G.nodes(data=True)"
   ]
  },
  {
   "cell_type": "code",
   "execution_count": null,
   "metadata": {},
   "outputs": [],
   "source": [
    "del G.nodes[6]['integer']"
   ]
  },
  {
   "cell_type": "code",
   "execution_count": 28,
   "metadata": {
    "tags": []
   },
   "outputs": [
    {
     "data": {
      "text/plain": [
       "NodeDataView({0: {}, 2: {}, 4: {}, 6: {'integer': True}, 8: {}, 10: {}, 333: {}, 666: {}, 'a': {}, 'b': {}, 'c': {}, 'd': {}, 'e': {}, 'f': {}, 'g': {}, 11: {}, 12: {}, 13: {}, 14: {}, 'Spam': {'company': 'Hormel', 'food': 'meat', 'Delicious': True}, 'Bologna': {'food': 'meat', 'company': 'Oscar Meyer'}, 'Bacon': {'food': 'meat', 'company': 'Wright'}, 'Sausage': {'food': 'meat', 'company': 'Jimmy Dean'}})"
      ]
     },
     "execution_count": 28,
     "metadata": {},
     "output_type": "execute_result"
    }
   ],
   "source": [
    "G.nodes(data=True)"
   ]
  },
  {
   "cell_type": "markdown",
   "metadata": {},
   "source": [
    "Similiarly, you can remove nodes with the `remove_node` and `remove_nodes_from` functions"
   ]
  },
  {
   "cell_type": "code",
   "execution_count": 29,
   "metadata": {
    "tags": []
   },
   "outputs": [],
   "source": [
    "G.remove_node(14)\n",
    "G.remove_nodes_from([10,11,12,13])"
   ]
  },
  {
   "cell_type": "code",
   "execution_count": 30,
   "metadata": {
    "tags": []
   },
   "outputs": [
    {
     "data": {
      "text/plain": [
       "False"
      ]
     },
     "execution_count": 30,
     "metadata": {},
     "output_type": "execute_result"
    }
   ],
   "source": [
    "G.has_node(14)"
   ]
  },
  {
   "cell_type": "code",
   "execution_count": 40,
   "metadata": {
    "tags": []
   },
   "outputs": [
    {
     "name": "stdout",
     "output_type": "stream",
     "text": [
      "[0, 2, 4, 6, 8, 333, 666, 'a', 'b', 'c', 'd', 'e', 'f', 'g', 'Spam', 'Bologna', 'Bacon', 'Sausage']\n"
     ]
    },
    {
     "data": {
      "text/plain": [
       "NodeDataView({0: {'att': 'a'}, 2: {'att': 'a'}, 4: {'att': 'a'}, 6: {'integer': True, 'att': 'a'}, 8: {'att': 'a'}, 333: {'att': 'a'}, 666: {'att': 'a'}, 'a': {'att': 'a'}, 'b': {'att': 'a'}, 'c': {'att': 'a'}, 'd': {'att': 'a'}, 'e': {'att': 'a'}, 'f': {'att': 'a'}, 'g': {'att': 'a'}, 'Spam': {'company': 'Hormel', 'food': 'meat', 'Delicious': True, 'att': 'a'}, 'Bologna': {'food': 'meat', 'company': 'Oscar Meyer', 'att': 'a'}, 'Bacon': {'food': 'meat', 'company': 'Wright', 'att': 'a'}, 'Sausage': {'food': 'meat', 'company': 'Jimmy Dean', 'att': 'a'}})"
      ]
     },
     "execution_count": 40,
     "metadata": {},
     "output_type": "execute_result"
    }
   ],
   "source": [
    "nodes = list(G.nodes())\n",
    "print(nodes)\n",
    "att_dict = {node: 'a' for node in nodes}\n",
    "\n",
    "nx.set_node_attributes(G, att_dict, 'att')\n",
    "G.nodes(data=True)"
   ]
  },
  {
   "cell_type": "markdown",
   "metadata": {},
   "source": [
    "### Exercises"
   ]
  },
  {
   "cell_type": "markdown",
   "metadata": {},
   "source": [
    "#### Repeated Nodes"
   ]
  },
  {
   "cell_type": "markdown",
   "metadata": {},
   "source": [
    "1. What happens when you add nodes to a graph that already exist?\n",
    "2. What happens when you add nodes to the graph that already exist but have new attributes?\n",
    "3. What happens when you add nodes to a graph with attributes different from existing nodes?\n",
    "4. Try removing a node that doesn't exist, what happens?"
   ]
  },
  {
   "cell_type": "code",
   "execution_count": 43,
   "metadata": {
    "tags": []
   },
   "outputs": [
    {
     "name": "stdout",
     "output_type": "stream",
     "text": [
      "[('what', {})]\n",
      "[('what', {'classroomm': '3a'})]\n",
      "[('what', {'classroomm': '7a'}), ('else', {'time': 'morning'})]\n"
     ]
    },
    {
     "ename": "NetworkXError",
     "evalue": "The node 1 is not in the graph.",
     "output_type": "error",
     "traceback": [
      "\u001b[0;31m---------------------------------------------------------------------------\u001b[0m",
      "\u001b[0;31mKeyError\u001b[0m                                  Traceback (most recent call last)",
      "File \u001b[0;32m~/Nextcloud/Work/curso_redes/Complex_Networks_Master/complex_networks/lib/python3.11/site-packages/networkx/classes/graph.py:683\u001b[0m, in \u001b[0;36mGraph.remove_node\u001b[0;34m(self, n)\u001b[0m\n\u001b[1;32m    682\u001b[0m \u001b[38;5;28;01mtry\u001b[39;00m:\n\u001b[0;32m--> 683\u001b[0m     nbrs \u001b[38;5;241m=\u001b[39m \u001b[38;5;28mlist\u001b[39m(\u001b[43madj\u001b[49m\u001b[43m[\u001b[49m\u001b[43mn\u001b[49m\u001b[43m]\u001b[49m)  \u001b[38;5;66;03m# list handles self-loops (allows mutation)\u001b[39;00m\n\u001b[1;32m    684\u001b[0m     \u001b[38;5;28;01mdel\u001b[39;00m \u001b[38;5;28mself\u001b[39m\u001b[38;5;241m.\u001b[39m_node[n]\n",
      "\u001b[0;31mKeyError\u001b[0m: 1",
      "\nThe above exception was the direct cause of the following exception:\n",
      "\u001b[0;31mNetworkXError\u001b[0m                             Traceback (most recent call last)",
      "Cell \u001b[0;32mIn[43], line 9\u001b[0m\n\u001b[1;32m      7\u001b[0m H\u001b[38;5;241m.\u001b[39madd_node(\u001b[38;5;124m'\u001b[39m\u001b[38;5;124melse\u001b[39m\u001b[38;5;124m'\u001b[39m,time\u001b[38;5;241m=\u001b[39m\u001b[38;5;124m'\u001b[39m\u001b[38;5;124mmorning\u001b[39m\u001b[38;5;124m'\u001b[39m)\n\u001b[1;32m      8\u001b[0m \u001b[38;5;28mprint\u001b[39m(H\u001b[38;5;241m.\u001b[39mnodes(data\u001b[38;5;241m=\u001b[39m\u001b[38;5;28;01mTrue\u001b[39;00m))\n\u001b[0;32m----> 9\u001b[0m \u001b[43mH\u001b[49m\u001b[38;5;241;43m.\u001b[39;49m\u001b[43mremove_node\u001b[49m\u001b[43m(\u001b[49m\u001b[38;5;241;43m1\u001b[39;49m\u001b[43m)\u001b[49m\n",
      "File \u001b[0;32m~/Nextcloud/Work/curso_redes/Complex_Networks_Master/complex_networks/lib/python3.11/site-packages/networkx/classes/graph.py:686\u001b[0m, in \u001b[0;36mGraph.remove_node\u001b[0;34m(self, n)\u001b[0m\n\u001b[1;32m    684\u001b[0m     \u001b[38;5;28;01mdel\u001b[39;00m \u001b[38;5;28mself\u001b[39m\u001b[38;5;241m.\u001b[39m_node[n]\n\u001b[1;32m    685\u001b[0m \u001b[38;5;28;01mexcept\u001b[39;00m \u001b[38;5;167;01mKeyError\u001b[39;00m \u001b[38;5;28;01mas\u001b[39;00m err:  \u001b[38;5;66;03m# NetworkXError if n not in self\u001b[39;00m\n\u001b[0;32m--> 686\u001b[0m     \u001b[38;5;28;01mraise\u001b[39;00m NetworkXError(\u001b[38;5;124mf\u001b[39m\u001b[38;5;124m\"\u001b[39m\u001b[38;5;124mThe node \u001b[39m\u001b[38;5;132;01m{\u001b[39;00mn\u001b[38;5;132;01m}\u001b[39;00m\u001b[38;5;124m is not in the graph.\u001b[39m\u001b[38;5;124m\"\u001b[39m) \u001b[38;5;28;01mfrom\u001b[39;00m \u001b[38;5;21;01merr\u001b[39;00m\n\u001b[1;32m    687\u001b[0m \u001b[38;5;28;01mfor\u001b[39;00m u \u001b[38;5;129;01min\u001b[39;00m nbrs:\n\u001b[1;32m    688\u001b[0m     \u001b[38;5;28;01mdel\u001b[39;00m adj[u][n]  \u001b[38;5;66;03m# remove all edges n-u in graph\u001b[39;00m\n",
      "\u001b[0;31mNetworkXError\u001b[0m: The node 1 is not in the graph."
     ]
    }
   ],
   "source": [
    "H = nx.Graph()\n",
    "H.add_node('what')\n",
    "print(H.nodes(data=True))\n",
    "H.add_node('what',classroomm='3a')\n",
    "print(H.nodes(data=True))\n",
    "H.add_node('what',classroomm='7a')\n",
    "H.add_node('else',time='morning')\n",
    "print(H.nodes(data=True))\n",
    "H.remove_node(1)"
   ]
  },
  {
   "cell_type": "markdown",
   "metadata": {},
   "source": [
    "#### The FizzBuzz Graph"
   ]
  },
  {
   "cell_type": "markdown",
   "metadata": {},
   "source": [
    "Using the spaces provided below make a new graph, `FizzBuzz`. Add nodes labeled 0 to 100 to the graph. Each node should have an attribute 'fizz' and 'buzz'. If the nodes label is divisble by 3 `fizz=True` if it is divisble by 5 `buzz=True`, otherwise both are false."
   ]
  },
  {
   "cell_type": "code",
   "execution_count": null,
   "metadata": {},
   "outputs": [],
   "source": []
  },
  {
   "cell_type": "markdown",
   "metadata": {},
   "source": [
    "## Edges"
   ]
  },
  {
   "cell_type": "markdown",
   "metadata": {},
   "source": [
    "Adding edges is similar to adding nodes. They can be added, using either `add_edge` or `add_edges_from`. They can also have attributes in the same way nodes can. If you add an edge that includes a node that doesn't exist it will create it for you"
   ]
  },
  {
   "cell_type": "code",
   "execution_count": 44,
   "metadata": {
    "tags": []
   },
   "outputs": [],
   "source": [
    "G.add_edge('Bacon','Sausage',breakfast=True)\n",
    "G.add_edge('Ham','Bacon',breakfast=True)\n",
    "G.add_edge('Spam','Eggs',breakfast=True)"
   ]
  },
  {
   "cell_type": "markdown",
   "metadata": {},
   "source": [
    "Here we are using a list comprehension. This is an easy way to construct lists using a single line. Learn more about list comprehensions [here](https://docs.python.org/2/tutorial/datastructures.html#list-comprehensions)."
   ]
  },
  {
   "cell_type": "code",
   "execution_count": 45,
   "metadata": {
    "tags": []
   },
   "outputs": [],
   "source": [
    "G.add_edges_from([(i,i+2) for i in range(2,8,2)])"
   ]
  },
  {
   "cell_type": "code",
   "execution_count": 46,
   "metadata": {
    "tags": []
   },
   "outputs": [
    {
     "data": {
      "text/plain": [
       "EdgeView([(2, 4), (4, 6), (6, 8), ('Spam', 'Eggs'), ('Bacon', 'Sausage'), ('Bacon', 'Ham')])"
      ]
     },
     "execution_count": 46,
     "metadata": {},
     "output_type": "execute_result"
    }
   ],
   "source": [
    "G.edges()"
   ]
  },
  {
   "cell_type": "code",
   "execution_count": 47,
   "metadata": {
    "tags": []
   },
   "outputs": [
    {
     "data": {
      "text/plain": [
       "EdgeDataView([(2, 4, {}), (4, 6, {}), (6, 8, {}), ('Spam', 'Eggs', {'breakfast': True}), ('Bacon', 'Sausage', {'breakfast': True}), ('Bacon', 'Ham', {'breakfast': True})])"
      ]
     },
     "execution_count": 47,
     "metadata": {},
     "output_type": "execute_result"
    }
   ],
   "source": [
    "G.edges(data=True)"
   ]
  },
  {
   "cell_type": "markdown",
   "metadata": {},
   "source": [
    "Removing edges is accomplished by using the `remove_edge` or `remove_edges_from` function. Remove edge attributes can be done by indexing into the graph"
   ]
  },
  {
   "cell_type": "code",
   "execution_count": 50,
   "metadata": {
    "tags": []
   },
   "outputs": [
    {
     "data": {
      "text/plain": [
       "{}"
      ]
     },
     "execution_count": 50,
     "metadata": {},
     "output_type": "execute_result"
    }
   ],
   "source": [
    "G['Eggs']['Spam']"
   ]
  },
  {
   "cell_type": "code",
   "execution_count": 49,
   "metadata": {
    "tags": []
   },
   "outputs": [],
   "source": [
    "del G['Spam']['Eggs']['breakfast']"
   ]
  },
  {
   "cell_type": "code",
   "execution_count": 51,
   "metadata": {
    "tags": []
   },
   "outputs": [],
   "source": [
    "G.remove_edge(2,4)"
   ]
  },
  {
   "cell_type": "code",
   "execution_count": 52,
   "metadata": {
    "tags": []
   },
   "outputs": [
    {
     "data": {
      "text/plain": [
       "EdgeDataView([(4, 6, {}), (6, 8, {}), ('Spam', 'Eggs', {}), ('Bacon', 'Sausage', {'breakfast': True}), ('Bacon', 'Ham', {'breakfast': True})])"
      ]
     },
     "execution_count": 52,
     "metadata": {},
     "output_type": "execute_result"
    }
   ],
   "source": [
    "G.edges(data=True)"
   ]
  },
  {
   "cell_type": "markdown",
   "metadata": {},
   "source": [
    "You can check for the existance of edges with `has_edge`"
   ]
  },
  {
   "cell_type": "code",
   "execution_count": 54,
   "metadata": {
    "tags": []
   },
   "outputs": [
    {
     "name": "stdout",
     "output_type": "stream",
     "text": [
      "False\n",
      "[(4, 6), (6, 8), ('Spam', 'Eggs'), ('Bacon', 'Sausage'), ('Bacon', 'Ham')]\n",
      "True True\n"
     ]
    }
   ],
   "source": [
    "print(G.has_edge(2,4))\n",
    "print(G.edges())\n",
    "print((4,6) in G.edges(),G.has_edge(6,4))"
   ]
  },
  {
   "cell_type": "code",
   "execution_count": 55,
   "metadata": {
    "tags": []
   },
   "outputs": [
    {
     "data": {
      "text/plain": [
       "True"
      ]
     },
     "execution_count": 55,
     "metadata": {},
     "output_type": "execute_result"
    }
   ],
   "source": [
    "G.has_edge('Ham','Bacon')"
   ]
  },
  {
   "cell_type": "markdown",
   "metadata": {},
   "source": [
    "For directed graphs, ordering matters. `add_edge(u,v)` will add an edge from `u` to `v`"
   ]
  },
  {
   "cell_type": "code",
   "execution_count": 56,
   "metadata": {
    "tags": []
   },
   "outputs": [],
   "source": [
    "D.add_nodes_from(range(10))"
   ]
  },
  {
   "cell_type": "code",
   "execution_count": 57,
   "metadata": {
    "tags": []
   },
   "outputs": [],
   "source": [
    "D.add_edges_from([(i,i+1 % 10) for i in range(0,10)])"
   ]
  },
  {
   "cell_type": "code",
   "execution_count": 58,
   "metadata": {
    "tags": []
   },
   "outputs": [
    {
     "data": {
      "text/plain": [
       "OutEdgeView([(0, 1), (1, 2), (2, 3), (3, 4), (4, 5), (5, 6), (6, 7), (7, 8), (8, 9), (9, 10)])"
      ]
     },
     "execution_count": 58,
     "metadata": {},
     "output_type": "execute_result"
    }
   ],
   "source": [
    "D.edges()"
   ]
  },
  {
   "cell_type": "code",
   "execution_count": 59,
   "metadata": {
    "tags": []
   },
   "outputs": [
    {
     "data": {
      "text/plain": [
       "True"
      ]
     },
     "execution_count": 59,
     "metadata": {},
     "output_type": "execute_result"
    }
   ],
   "source": [
    "D.has_edge(0,1)"
   ]
  },
  {
   "cell_type": "code",
   "execution_count": 60,
   "metadata": {
    "tags": []
   },
   "outputs": [
    {
     "data": {
      "text/plain": [
       "False"
      ]
     },
     "execution_count": 60,
     "metadata": {},
     "output_type": "execute_result"
    }
   ],
   "source": [
    "D.has_edge(1,0)"
   ]
  },
  {
   "cell_type": "markdown",
   "metadata": {},
   "source": [
    "You can also access edges for only a subset of nodes by passing edges a collection of nodes"
   ]
  },
  {
   "cell_type": "code",
   "execution_count": 61,
   "metadata": {
    "tags": []
   },
   "outputs": [
    {
     "data": {
      "text/plain": [
       "OutEdgeDataView([(3, 4), (4, 5), (5, 6)])"
      ]
     },
     "execution_count": 61,
     "metadata": {},
     "output_type": "execute_result"
    }
   ],
   "source": [
    "D.edges([3,4,5])"
   ]
  },
  {
   "cell_type": "markdown",
   "metadata": {},
   "source": [
    "### Exercises"
   ]
  },
  {
   "cell_type": "markdown",
   "metadata": {},
   "source": [
    "For the `FizzBuzz` graph above, add edges betweeen two nodes `u` and `v` if they are both divisible by 2 or by 7. Each edge should include attributes `div2` and `div7` which are true if `u` and `v` are divisible by 2 and 7 respecitively. Exclude self loops."
   ]
  },
  {
   "cell_type": "code",
   "execution_count": null,
   "metadata": {},
   "outputs": [],
   "source": []
  },
  {
   "cell_type": "markdown",
   "metadata": {},
   "source": [
    "## Multigraphs"
   ]
  },
  {
   "cell_type": "markdown",
   "metadata": {},
   "source": [
    "Multigraphs can have multiple edges between any two nodes. They are referenced by a key."
   ]
  },
  {
   "cell_type": "code",
   "execution_count": 62,
   "metadata": {
    "tags": []
   },
   "outputs": [
    {
     "data": {
      "text/plain": [
       "1"
      ]
     },
     "execution_count": 62,
     "metadata": {},
     "output_type": "execute_result"
    }
   ],
   "source": [
    "M.add_edge(0,1)\n",
    "M.add_edge(0,1)"
   ]
  },
  {
   "cell_type": "code",
   "execution_count": 63,
   "metadata": {
    "tags": []
   },
   "outputs": [
    {
     "data": {
      "text/plain": [
       "MultiEdgeDataView([(0, 1), (0, 1)])"
      ]
     },
     "execution_count": 63,
     "metadata": {},
     "output_type": "execute_result"
    }
   ],
   "source": [
    "M.edges()"
   ]
  },
  {
   "cell_type": "markdown",
   "metadata": {},
   "source": [
    "The keys of the edges can be accessed by using the keyword `keys=True`. This will give a tuple of `(u,v,k)`, with the edge being `u` and `v` and the key being `k`."
   ]
  },
  {
   "cell_type": "code",
   "execution_count": 64,
   "metadata": {
    "tags": []
   },
   "outputs": [
    {
     "data": {
      "text/plain": [
       "MultiEdgeView([(0, 1, 0), (0, 1, 1)])"
      ]
     },
     "execution_count": 64,
     "metadata": {},
     "output_type": "execute_result"
    }
   ],
   "source": [
    "M.edges(keys=True)"
   ]
  },
  {
   "cell_type": "markdown",
   "metadata": {},
   "source": [
    "`MultiDraphs` and `MultiDiGraphs` are similar to `Graphs` and `DiGraphs` in most respects"
   ]
  },
  {
   "cell_type": "markdown",
   "metadata": {},
   "source": [
    "## Adding Graph Motifs"
   ]
  },
  {
   "cell_type": "markdown",
   "metadata": {},
   "source": [
    "In addition to adding nodes and edges one at a time networkx has some convenient functions for adding complete subgraphs. But beware, these may be removed, or the API changed in the future."
   ]
  },
  {
   "cell_type": "code",
   "execution_count": null,
   "metadata": {},
   "outputs": [],
   "source": [
    "G.add_cycle(range(100,110))"
   ]
  },
  {
   "cell_type": "code",
   "execution_count": null,
   "metadata": {},
   "outputs": [],
   "source": [
    "G.edges()"
   ]
  },
  {
   "cell_type": "markdown",
   "metadata": {},
   "source": [
    "# Basic Graph Properties"
   ]
  },
  {
   "cell_type": "markdown",
   "metadata": {},
   "source": [
    "Basic graph properties are functions which are member of the `Graph` class itself."
   ]
  },
  {
   "cell_type": "markdown",
   "metadata": {},
   "source": [
    "## Node and Edge Counts"
   ]
  },
  {
   "cell_type": "markdown",
   "metadata": {},
   "source": [
    "The _order_ of a graph is the number of nodes, it can be accessed by calling `G.order()` or using the builtin length function: `len(G)`."
   ]
  },
  {
   "cell_type": "code",
   "execution_count": 65,
   "metadata": {
    "tags": []
   },
   "outputs": [
    {
     "data": {
      "text/plain": [
       "20"
      ]
     },
     "execution_count": 65,
     "metadata": {},
     "output_type": "execute_result"
    }
   ],
   "source": [
    "G.order()"
   ]
  },
  {
   "cell_type": "code",
   "execution_count": 66,
   "metadata": {
    "tags": []
   },
   "outputs": [
    {
     "name": "stdout",
     "output_type": "stream",
     "text": [
      "20\n",
      "20\n"
     ]
    }
   ],
   "source": [
    "print(len(G))\n",
    "print(nx.number_of_nodes(G))"
   ]
  },
  {
   "cell_type": "markdown",
   "metadata": {},
   "source": [
    "The number of edges is usually referred to as the _size_ of the graph, and can be accessed by `G.number_of_nodes()`. You could also find out by calling `len(G.edges())`, but this is much slower."
   ]
  },
  {
   "cell_type": "code",
   "execution_count": 67,
   "metadata": {
    "tags": []
   },
   "outputs": [
    {
     "data": {
      "text/plain": [
       "20"
      ]
     },
     "execution_count": 67,
     "metadata": {},
     "output_type": "execute_result"
    }
   ],
   "source": [
    "G.number_of_nodes()"
   ]
  },
  {
   "cell_type": "markdown",
   "metadata": {},
   "source": [
    "For multigraphs it counts the number of edges includeing multiplicity"
   ]
  },
  {
   "cell_type": "code",
   "execution_count": 68,
   "metadata": {
    "tags": []
   },
   "outputs": [
    {
     "data": {
      "text/plain": [
       "2"
      ]
     },
     "execution_count": 68,
     "metadata": {},
     "output_type": "execute_result"
    }
   ],
   "source": [
    "M.size()"
   ]
  },
  {
   "cell_type": "markdown",
   "metadata": {},
   "source": [
    "## Node Neighbors"
   ]
  },
  {
   "cell_type": "markdown",
   "metadata": {},
   "source": [
    "Node neighbors can be accessed via the `neighbors` "
   ]
  },
  {
   "cell_type": "code",
   "execution_count": 69,
   "metadata": {
    "tags": []
   },
   "outputs": [
    {
     "data": {
      "text/plain": [
       "['Sausage', 'Ham']"
      ]
     },
     "execution_count": 69,
     "metadata": {},
     "output_type": "execute_result"
    }
   ],
   "source": [
    "list(G.neighbors('Bacon'))"
   ]
  },
  {
   "cell_type": "markdown",
   "metadata": {},
   "source": [
    "In the case of directed graphs, neighbors are only those originating at the node."
   ]
  },
  {
   "cell_type": "code",
   "execution_count": 70,
   "metadata": {
    "tags": []
   },
   "outputs": [
    {
     "data": {
      "text/plain": [
       "[1, 5, 6, 7, 8, 9]"
      ]
     },
     "execution_count": 70,
     "metadata": {},
     "output_type": "execute_result"
    }
   ],
   "source": [
    "D.add_edges_from([(0,i) for i in range(5,10)])\n",
    "list(D.neighbors(0))"
   ]
  },
  {
   "cell_type": "markdown",
   "metadata": {},
   "source": [
    "For multigraphs, neighbors are only reported once."
   ]
  },
  {
   "cell_type": "code",
   "execution_count": 71,
   "metadata": {
    "tags": []
   },
   "outputs": [
    {
     "data": {
      "text/plain": [
       "<dict_keyiterator at 0x70335ce23650>"
      ]
     },
     "execution_count": 71,
     "metadata": {},
     "output_type": "execute_result"
    }
   ],
   "source": [
    "M.neighbors(0)"
   ]
  },
  {
   "cell_type": "markdown",
   "metadata": {},
   "source": [
    "## Degree"
   ]
  },
  {
   "cell_type": "markdown",
   "metadata": {},
   "source": [
    "The degree of a graph can be found using the `degree` function for undirected graphs, and `in_degree` and `out_degree` for directed graphs. They both return a dictionary with the node as the keys of the dictionary and the degree as the value"
   ]
  },
  {
   "cell_type": "code",
   "execution_count": 79,
   "metadata": {
    "tags": []
   },
   "outputs": [
    {
     "name": "stdout",
     "output_type": "stream",
     "text": [
      "1\n",
      "1\n"
     ]
    }
   ],
   "source": [
    "print(G.degree(8))\n",
    "print(len(list(G.neighbors(8))))"
   ]
  },
  {
   "cell_type": "code",
   "execution_count": 73,
   "metadata": {
    "tags": []
   },
   "outputs": [
    {
     "data": {
      "text/plain": [
       "InDegreeView({0: 0, 1: 1, 2: 1, 3: 1, 4: 1, 5: 2, 6: 2, 7: 2, 8: 2, 9: 2, 10: 1})"
      ]
     },
     "execution_count": 73,
     "metadata": {},
     "output_type": "execute_result"
    }
   ],
   "source": [
    "D.in_degree()"
   ]
  },
  {
   "cell_type": "code",
   "execution_count": 74,
   "metadata": {
    "tags": []
   },
   "outputs": [
    {
     "data": {
      "text/plain": [
       "OutDegreeView({0: 6, 1: 1, 2: 1, 3: 1, 4: 1, 5: 1, 6: 1, 7: 1, 8: 1, 9: 1, 10: 0})"
      ]
     },
     "execution_count": 74,
     "metadata": {},
     "output_type": "execute_result"
    }
   ],
   "source": [
    "D.out_degree()"
   ]
  },
  {
   "cell_type": "markdown",
   "metadata": {},
   "source": [
    "Both of these can be called on a single node or a subset of nodes if not all degrees are needed"
   ]
  },
  {
   "cell_type": "code",
   "execution_count": null,
   "metadata": {},
   "outputs": [],
   "source": [
    "D.in_degree(5)"
   ]
  },
  {
   "cell_type": "code",
   "execution_count": null,
   "metadata": {},
   "outputs": [],
   "source": [
    "D.out_degree([0,1,2])"
   ]
  },
  {
   "cell_type": "markdown",
   "metadata": {},
   "source": [
    "You can also calculate weighted degree. To do this each edge has to have specific attribute to be used as a weight."
   ]
  },
  {
   "cell_type": "code",
   "execution_count": null,
   "metadata": {},
   "outputs": [],
   "source": [
    "WG = nx.Graph()\n",
    "nx.add_star(WG,range(5))\n",
    "nx.add_star(WG,range(5,10))\n",
    "WG.add_edges_from([(i,2*i %10) for i in range(10)])\n",
    "for (u,v) in WG.edges():\n",
    "    WG[u][v]['product'] = (u+1)*(v+1)"
   ]
  },
  {
   "cell_type": "code",
   "execution_count": null,
   "metadata": {},
   "outputs": [],
   "source": [
    "WG.degree(weight='product')"
   ]
  },
  {
   "cell_type": "markdown",
   "metadata": {},
   "source": [
    "# Exercises"
   ]
  },
  {
   "cell_type": "markdown",
   "metadata": {},
   "source": [
    "## Create A Classroom Graph"
   ]
  },
  {
   "cell_type": "markdown",
   "metadata": {},
   "source": [
    "Let's make a network of the people in this room. First, create a graph called `C`. Everyone state their name (one at a time) and where they are from. Add nodes to the graph representing each individual, with an attribute denoting where they are from. Add edges to the graph between an individual and their closest three classmates. Have each edge have an attribute that indicates whether there was a previous relationship between the two. If none existed have `relationship=None`, if it does exist have the relationship stated, e.g. `relationship='Cousin-in-law'`"
   ]
  },
  {
   "cell_type": "code",
   "execution_count": null,
   "metadata": {
    "scrolled": true
   },
   "outputs": [],
   "source": []
  },
  {
   "cell_type": "markdown",
   "metadata": {},
   "source": [
    "How many nodes are in the Graph? How many Edges? What is the degree of the graph?"
   ]
  },
  {
   "cell_type": "markdown",
   "metadata": {},
   "source": [
    "# Quickly Saving a Graph"
   ]
  },
  {
   "cell_type": "markdown",
   "metadata": {},
   "source": [
    "You can save quickly a graph like this:"
   ]
  },
  {
   "cell_type": "code",
   "execution_count": null,
   "metadata": {},
   "outputs": [],
   "source": [
    "nx.write_gpickle(C,'./results/Classroom.pickle')"
   ]
  },
  {
   "cell_type": "markdown",
   "metadata": {},
   "source": [
    "For more ways of saving ans loading graphs you can check [this part of the NetorkX documentation](https://networkx.org/documentation/stable/reference/readwrite/index.html)."
   ]
  },
  {
   "cell_type": "markdown",
   "metadata": {},
   "source": [
    "# Exercise: Create your own graph analyzer!\n",
    "\n",
    "Create a set of functions to do some basic analysis of any undirected network. You can do as many measures as you want, but at least you should give the density, the degree distribution, the average degree and its variance, the average clustering coefficient and the diameter of the network. You cannot use for this exercise built-in functions that give back this quantities, except for the function `neighbors`.\n",
    "Try it on at least three different networks (sizes bigger than 1000 nodes). You can use any network data that you find either in [The colorado index of Complex Networks](https://icon.colorado.edu/#!/) or in [Netzschleuder](https://networks.skewed.de/).\n",
    "Send me the jupyter notebook with your network analyzer and the data files for the networks to my email `juanf@ifisc.uib-csic.es`."
   ]
  },
  {
   "cell_type": "code",
   "execution_count": null,
   "metadata": {},
   "outputs": [],
   "source": []
  }
 ],
 "metadata": {
  "kernelspec": {
   "display_name": "complex_networks",
   "language": "python",
   "name": "complex_networks"
  },
  "language_info": {
   "codemirror_mode": {
    "name": "ipython",
    "version": 3
   },
   "file_extension": ".py",
   "mimetype": "text/x-python",
   "name": "python",
   "nbconvert_exporter": "python",
   "pygments_lexer": "ipython3",
   "version": "3.11.5"
  }
 },
 "nbformat": 4,
 "nbformat_minor": 4
}
