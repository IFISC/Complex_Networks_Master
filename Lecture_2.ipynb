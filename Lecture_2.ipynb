{
 "cells": [
  {
   "cell_type": "markdown",
   "id": "361c932e-c5f1-413d-b45f-3fcdd3835374",
   "metadata": {},
   "source": [
    "## Introduction to NetworkX\n",
    "NetworkX is a python module. To start exploring NetworkX we simply need to start a python session (Like the IPython session you are in now!), and type"
   ]
  },
  {
   "cell_type": "code",
   "execution_count": null,
   "id": "bc2bcf50-29bc-4cf2-bab6-b8cf4382d62c",
   "metadata": {},
   "outputs": [],
   "source": [
    "import networkx"
   ]
  },
  {
   "cell_type": "markdown",
   "id": "886deb29-2fb9-429a-8961-c8d12bf512af",
   "metadata": {},
   "source": [
    "All of NetworkX's data structures and functions can then be accessed using the syntax `networkx.[Object]`, where `[Object]` is the function or data structure you need. Of course you would replace `[Object]` with the function you wanted. For example to make a graph, we'd write:"
   ]
  },
  {
   "cell_type": "code",
   "execution_count": null,
   "id": "09403c58-2625-4009-8964-8fcfcc61a56e",
   "metadata": {},
   "outputs": [],
   "source": [
    "G = networkx.Graph()\n",
    "print(type(G))"
   ]
  },
  {
   "cell_type": "markdown",
   "id": "a94025a7-6abe-4ad4-bdad-86529ea3308f",
   "metadata": {},
   "source": [
    "Usually to save ourselves some keystrokes, we'll import NetworkX using a shorter variable name"
   ]
  },
  {
   "cell_type": "code",
   "execution_count": null,
   "id": "d4777020-ff66-4339-b3bf-f9ff98361023",
   "metadata": {},
   "outputs": [],
   "source": [
    "import networkx as nx"
   ]
  },
  {
   "cell_type": "markdown",
   "id": "189c5b45-b13e-4123-a646-3f5f9b943876",
   "metadata": {},
   "source": [
    "### Basic Graph structures\n",
    "One of the main strengths of NetworkX is its flexible graph data structures. There are four data structures\n",
    " - `Graph`: Undirected Graphs\n",
    " - `DiGraph`: Directed Graphs\n",
    " - `MultiGraph`: Undirected multigraphs, ie graphs which allow for multiple edges between nodes\n",
    " - `MultiDiGraph`: Directed Multigraphs\n",
    " \n",
    "Each of these has the same basic structure, attributes and features, with a few minor differences.\n",
    "\n",
    "#### Creating graphs\n",
    "Creating Graphs is as simple as calling the appropriate constructor."
   ]
  },
  {
   "cell_type": "code",
   "execution_count": null,
   "id": "b72a02bb-8a2c-411a-bd99-17be28113709",
   "metadata": {},
   "outputs": [],
   "source": [
    "G = nx.Graph()\n",
    "D = nx.DiGraph()\n",
    "M = nx.MultiGraph()\n",
    "MD = nx.MultiDiGraph()"
   ]
  },
  {
   "cell_type": "markdown",
   "id": "840bc983-2e9b-493f-aae1-95f90ecd2044",
   "metadata": {},
   "source": [
    "You can also add attributes to a graph during creation, either by providing a dictionary, or simply using keyword arguments"
   ]
  },
  {
   "cell_type": "code",
   "execution_count": null,
   "id": "2a30489d-ec7b-4238-a90d-ebb8a95b86ff",
   "metadata": {},
   "outputs": [],
   "source": [
    "G = nx.Graph(DateCreated='2015-01-10',name=\"Terry\")"
   ]
  },
  {
   "cell_type": "code",
   "execution_count": null,
   "id": "2ce73d98-18de-4e7c-8a31-cf166b418f05",
   "metadata": {},
   "outputs": [],
   "source": [
    "G.graph"
   ]
  },
  {
   "cell_type": "markdown",
   "id": "9a800c72-fe6b-4612-997a-cb735921cd83",
   "metadata": {},
   "source": [
    "The graph attribute is just a dictionary and can be treated as one, so you can add and delete more information from it."
   ]
  },
  {
   "cell_type": "code",
   "execution_count": null,
   "id": "1119700f-0bef-45b8-92b9-0f009bff3dbf",
   "metadata": {},
   "outputs": [],
   "source": [
    "G.graph['Current']=False\n",
    "del G.graph['name']"
   ]
  },
  {
   "cell_type": "code",
   "execution_count": null,
   "id": "4177ac5e-d6f5-4c2b-9861-6936bceecde0",
   "metadata": {},
   "outputs": [],
   "source": [
    "G.graph"
   ]
  }
 ],
 "metadata": {
  "kernelspec": {
   "display_name": "complex_networks",
   "language": "python",
   "name": "complex_networks"
  },
  "language_info": {
   "codemirror_mode": {
    "name": "ipython",
    "version": 3
   },
   "file_extension": ".py",
   "mimetype": "text/x-python",
   "name": "python",
   "nbconvert_exporter": "python",
   "pygments_lexer": "ipython3",
   "version": "3.8.12"
  }
 },
 "nbformat": 4,
 "nbformat_minor": 5
}
